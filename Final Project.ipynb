{
 "cells": [
  {
   "cell_type": "code",
   "execution_count": 43,
   "metadata": {
    "colab": {
     "base_uri": "https://localhost:8080/",
     "height": 383
    },
    "id": "uywjjty_m-w7",
    "outputId": "799651af-df62-443a-b0d4-a8a535b7aa48"
   },
   "outputs": [],
   "source": [
    "import numpy as np \n",
    "import pandas as pd \n",
    "import matplotlib.pyplot as plt \n",
    "import seaborn as sns \n",
    "import warnings \n",
    "warnings.filterwarnings('ignore')\n",
    "\n",
    "from sklearn.preprocessing import MinMaxScaler\n",
    "from sklearn.dummy import DummyClassifier\n",
    "from sklearn.metrics import accuracy_score\n",
    "\n",
    "from sklearn.metrics import confusion_matrix\n",
    "from sklearn.metrics import plot_confusion_matrix\n",
    "from sklearn.metrics import classification_report\n",
    "\n",
    "from sklearn.neighbors import KNeighborsClassifier\n",
    "from sklearn.ensemble import RandomForestClassifier\n",
    "from sklearn.linear_model import LogisticRegression\n",
    "from sklearn.svm import SVC \n",
    "from sklearn import svm\n",
    "from sklearn.model_selection import GridSearchCV\n",
    "from sklearn.ensemble import VotingClassifier\n",
    "from xgboost import XGBClassifier\n",
    "\n",
    "\n",
    "from sklearn.metrics import plot_roc_curve\n",
    "from sklearn.model_selection import train_test_split"
   ]
  },
  {
   "cell_type": "code",
   "execution_count": 45,
   "metadata": {
    "colab": {
     "base_uri": "https://localhost:8080/",
     "height": 328
    },
    "id": "iCJ02lbwDBQs",
    "outputId": "993b09e8-ad14-40d1-e186-3db7b60db85d"
   },
   "outputs": [
    {
     "data": {
      "text/html": [
       "<div>\n",
       "<style scoped>\n",
       "    .dataframe tbody tr th:only-of-type {\n",
       "        vertical-align: middle;\n",
       "    }\n",
       "\n",
       "    .dataframe tbody tr th {\n",
       "        vertical-align: top;\n",
       "    }\n",
       "\n",
       "    .dataframe thead th {\n",
       "        text-align: right;\n",
       "    }\n",
       "</style>\n",
       "<table border=\"1\" class=\"dataframe\">\n",
       "  <thead>\n",
       "    <tr style=\"text-align: right;\">\n",
       "      <th></th>\n",
       "      <th>ProductKey</th>\n",
       "      <th>Supplier</th>\n",
       "      <th>HierarchyLevel1</th>\n",
       "      <th>HierarchyLevel2</th>\n",
       "      <th>DIorDOM</th>\n",
       "      <th>Seasonal</th>\n",
       "    </tr>\n",
       "  </thead>\n",
       "  <tbody>\n",
       "    <tr>\n",
       "      <th>0</th>\n",
       "      <td>30437</td>\n",
       "      <td>13194</td>\n",
       "      <td>80445</td>\n",
       "      <td>28611</td>\n",
       "      <td>DOM</td>\n",
       "      <td>False</td>\n",
       "    </tr>\n",
       "    <tr>\n",
       "      <th>1</th>\n",
       "      <td>68587</td>\n",
       "      <td>13194</td>\n",
       "      <td>80445</td>\n",
       "      <td>28611</td>\n",
       "      <td>DOM</td>\n",
       "      <td>False</td>\n",
       "    </tr>\n",
       "    <tr>\n",
       "      <th>2</th>\n",
       "      <td>46645</td>\n",
       "      <td>13194</td>\n",
       "      <td>80445</td>\n",
       "      <td>28611</td>\n",
       "      <td>DOM</td>\n",
       "      <td>False</td>\n",
       "    </tr>\n",
       "    <tr>\n",
       "      <th>3</th>\n",
       "      <td>49343</td>\n",
       "      <td>13194</td>\n",
       "      <td>80445</td>\n",
       "      <td>28611</td>\n",
       "      <td>DOM</td>\n",
       "      <td>False</td>\n",
       "    </tr>\n",
       "    <tr>\n",
       "      <th>4</th>\n",
       "      <td>64223</td>\n",
       "      <td>13194</td>\n",
       "      <td>80445</td>\n",
       "      <td>28611</td>\n",
       "      <td>DOM</td>\n",
       "      <td>False</td>\n",
       "    </tr>\n",
       "    <tr>\n",
       "      <th>...</th>\n",
       "      <td>...</td>\n",
       "      <td>...</td>\n",
       "      <td>...</td>\n",
       "      <td>...</td>\n",
       "      <td>...</td>\n",
       "      <td>...</td>\n",
       "    </tr>\n",
       "    <tr>\n",
       "      <th>77367</th>\n",
       "      <td>62220</td>\n",
       "      <td>66805</td>\n",
       "      <td>75452</td>\n",
       "      <td>9740</td>\n",
       "      <td>DI</td>\n",
       "      <td>False</td>\n",
       "    </tr>\n",
       "    <tr>\n",
       "      <th>77368</th>\n",
       "      <td>53837</td>\n",
       "      <td>66805</td>\n",
       "      <td>75452</td>\n",
       "      <td>9740</td>\n",
       "      <td>DI</td>\n",
       "      <td>False</td>\n",
       "    </tr>\n",
       "    <tr>\n",
       "      <th>77369</th>\n",
       "      <td>28091</td>\n",
       "      <td>66805</td>\n",
       "      <td>75452</td>\n",
       "      <td>6840</td>\n",
       "      <td>DI</td>\n",
       "      <td>False</td>\n",
       "    </tr>\n",
       "    <tr>\n",
       "      <th>77370</th>\n",
       "      <td>1234</td>\n",
       "      <td>15011</td>\n",
       "      <td>75452</td>\n",
       "      <td>9740</td>\n",
       "      <td>DI</td>\n",
       "      <td>False</td>\n",
       "    </tr>\n",
       "    <tr>\n",
       "      <th>77371</th>\n",
       "      <td>65087</td>\n",
       "      <td>15011</td>\n",
       "      <td>75452</td>\n",
       "      <td>6840</td>\n",
       "      <td>DI</td>\n",
       "      <td>False</td>\n",
       "    </tr>\n",
       "  </tbody>\n",
       "</table>\n",
       "<p>77372 rows × 6 columns</p>\n",
       "</div>"
      ],
      "text/plain": [
       "       ProductKey  Supplier  HierarchyLevel1  HierarchyLevel2 DIorDOM  \\\n",
       "0           30437     13194            80445            28611     DOM   \n",
       "1           68587     13194            80445            28611     DOM   \n",
       "2           46645     13194            80445            28611     DOM   \n",
       "3           49343     13194            80445            28611     DOM   \n",
       "4           64223     13194            80445            28611     DOM   \n",
       "...           ...       ...              ...              ...     ...   \n",
       "77367       62220     66805            75452             9740      DI   \n",
       "77368       53837     66805            75452             9740      DI   \n",
       "77369       28091     66805            75452             6840      DI   \n",
       "77370        1234     15011            75452             9740      DI   \n",
       "77371       65087     15011            75452             6840      DI   \n",
       "\n",
       "       Seasonal  \n",
       "0         False  \n",
       "1         False  \n",
       "2         False  \n",
       "3         False  \n",
       "4         False  \n",
       "...         ...  \n",
       "77367     False  \n",
       "77368     False  \n",
       "77369     False  \n",
       "77370     False  \n",
       "77371     False  \n",
       "\n",
       "[77372 rows x 6 columns]"
      ]
     },
     "execution_count": 45,
     "metadata": {},
     "output_type": "execute_result"
    }
   ],
   "source": [
    "df1=pd.read_csv('ProductDetails.csv')\n",
    "df1"
   ]
  },
  {
   "cell_type": "code",
   "execution_count": 46,
   "metadata": {
    "colab": {
     "base_uri": "https://localhost:8080/",
     "height": 424
    },
    "id": "pb8z_-24nTyg",
    "outputId": "5d3b1a0a-b97b-4996-ef47-1e9a1d396c88"
   },
   "outputs": [
    {
     "data": {
      "text/html": [
       "<div>\n",
       "<style scoped>\n",
       "    .dataframe tbody tr th:only-of-type {\n",
       "        vertical-align: middle;\n",
       "    }\n",
       "\n",
       "    .dataframe tbody tr th {\n",
       "        vertical-align: top;\n",
       "    }\n",
       "\n",
       "    .dataframe thead th {\n",
       "        text-align: right;\n",
       "    }\n",
       "</style>\n",
       "<table border=\"1\" class=\"dataframe\">\n",
       "  <thead>\n",
       "    <tr style=\"text-align: right;\">\n",
       "      <th></th>\n",
       "      <th>CatEdition</th>\n",
       "      <th>SpringSummer</th>\n",
       "      <th>ProductKey</th>\n",
       "      <th>WeeksOut</th>\n",
       "      <th>Status</th>\n",
       "      <th>SalePriceIncVAT</th>\n",
       "      <th>ForecastPerWeek</th>\n",
       "      <th>ActualsPerWeek</th>\n",
       "      <th>DiscontinuedTF</th>\n",
       "    </tr>\n",
       "  </thead>\n",
       "  <tbody>\n",
       "    <tr>\n",
       "      <th>0</th>\n",
       "      <td>89</td>\n",
       "      <td>True</td>\n",
       "      <td>8108</td>\n",
       "      <td>-11</td>\n",
       "      <td>RI</td>\n",
       "      <td>43.99</td>\n",
       "      <td>250.545</td>\n",
       "      <td>248.642</td>\n",
       "      <td>False</td>\n",
       "    </tr>\n",
       "    <tr>\n",
       "      <th>1</th>\n",
       "      <td>89</td>\n",
       "      <td>True</td>\n",
       "      <td>8108</td>\n",
       "      <td>-10</td>\n",
       "      <td>RI</td>\n",
       "      <td>43.99</td>\n",
       "      <td>255.700</td>\n",
       "      <td>244.333</td>\n",
       "      <td>False</td>\n",
       "    </tr>\n",
       "    <tr>\n",
       "      <th>2</th>\n",
       "      <td>89</td>\n",
       "      <td>True</td>\n",
       "      <td>8108</td>\n",
       "      <td>-9</td>\n",
       "      <td>RI</td>\n",
       "      <td>43.99</td>\n",
       "      <td>206.111</td>\n",
       "      <td>252.187</td>\n",
       "      <td>False</td>\n",
       "    </tr>\n",
       "    <tr>\n",
       "      <th>3</th>\n",
       "      <td>89</td>\n",
       "      <td>True</td>\n",
       "      <td>8108</td>\n",
       "      <td>-8</td>\n",
       "      <td>RI</td>\n",
       "      <td>43.99</td>\n",
       "      <td>188.625</td>\n",
       "      <td>254.764</td>\n",
       "      <td>False</td>\n",
       "    </tr>\n",
       "    <tr>\n",
       "      <th>4</th>\n",
       "      <td>89</td>\n",
       "      <td>True</td>\n",
       "      <td>8108</td>\n",
       "      <td>-7</td>\n",
       "      <td>RI</td>\n",
       "      <td>43.99</td>\n",
       "      <td>169.142</td>\n",
       "      <td>249.000</td>\n",
       "      <td>False</td>\n",
       "    </tr>\n",
       "    <tr>\n",
       "      <th>...</th>\n",
       "      <td>...</td>\n",
       "      <td>...</td>\n",
       "      <td>...</td>\n",
       "      <td>...</td>\n",
       "      <td>...</td>\n",
       "      <td>...</td>\n",
       "      <td>...</td>\n",
       "      <td>...</td>\n",
       "      <td>...</td>\n",
       "    </tr>\n",
       "    <tr>\n",
       "      <th>3625654</th>\n",
       "      <td>89</td>\n",
       "      <td>True</td>\n",
       "      <td>8108</td>\n",
       "      <td>-16</td>\n",
       "      <td>RI</td>\n",
       "      <td>43.99</td>\n",
       "      <td>633.750</td>\n",
       "      <td>0.000</td>\n",
       "      <td>False</td>\n",
       "    </tr>\n",
       "    <tr>\n",
       "      <th>3625655</th>\n",
       "      <td>89</td>\n",
       "      <td>True</td>\n",
       "      <td>8108</td>\n",
       "      <td>-15</td>\n",
       "      <td>RI</td>\n",
       "      <td>43.99</td>\n",
       "      <td>564.000</td>\n",
       "      <td>178.200</td>\n",
       "      <td>False</td>\n",
       "    </tr>\n",
       "    <tr>\n",
       "      <th>3625656</th>\n",
       "      <td>89</td>\n",
       "      <td>True</td>\n",
       "      <td>8108</td>\n",
       "      <td>-14</td>\n",
       "      <td>RI</td>\n",
       "      <td>43.99</td>\n",
       "      <td>539.214</td>\n",
       "      <td>236.363</td>\n",
       "      <td>False</td>\n",
       "    </tr>\n",
       "    <tr>\n",
       "      <th>3625657</th>\n",
       "      <td>89</td>\n",
       "      <td>True</td>\n",
       "      <td>8108</td>\n",
       "      <td>-13</td>\n",
       "      <td>RI</td>\n",
       "      <td>43.99</td>\n",
       "      <td>346.692</td>\n",
       "      <td>251.166</td>\n",
       "      <td>False</td>\n",
       "    </tr>\n",
       "    <tr>\n",
       "      <th>3625658</th>\n",
       "      <td>89</td>\n",
       "      <td>True</td>\n",
       "      <td>8108</td>\n",
       "      <td>-12</td>\n",
       "      <td>RI</td>\n",
       "      <td>43.99</td>\n",
       "      <td>283.416</td>\n",
       "      <td>253.384</td>\n",
       "      <td>False</td>\n",
       "    </tr>\n",
       "  </tbody>\n",
       "</table>\n",
       "<p>3625659 rows × 9 columns</p>\n",
       "</div>"
      ],
      "text/plain": [
       "         CatEdition  SpringSummer  ProductKey  WeeksOut Status  \\\n",
       "0                89          True        8108       -11     RI   \n",
       "1                89          True        8108       -10     RI   \n",
       "2                89          True        8108        -9     RI   \n",
       "3                89          True        8108        -8     RI   \n",
       "4                89          True        8108        -7     RI   \n",
       "...             ...           ...         ...       ...    ...   \n",
       "3625654          89          True        8108       -16     RI   \n",
       "3625655          89          True        8108       -15     RI   \n",
       "3625656          89          True        8108       -14     RI   \n",
       "3625657          89          True        8108       -13     RI   \n",
       "3625658          89          True        8108       -12     RI   \n",
       "\n",
       "         SalePriceIncVAT  ForecastPerWeek  ActualsPerWeek  DiscontinuedTF  \n",
       "0                  43.99          250.545         248.642           False  \n",
       "1                  43.99          255.700         244.333           False  \n",
       "2                  43.99          206.111         252.187           False  \n",
       "3                  43.99          188.625         254.764           False  \n",
       "4                  43.99          169.142         249.000           False  \n",
       "...                  ...              ...             ...             ...  \n",
       "3625654            43.99          633.750           0.000           False  \n",
       "3625655            43.99          564.000         178.200           False  \n",
       "3625656            43.99          539.214         236.363           False  \n",
       "3625657            43.99          346.692         251.166           False  \n",
       "3625658            43.99          283.416         253.384           False  \n",
       "\n",
       "[3625659 rows x 9 columns]"
      ]
     },
     "execution_count": 46,
     "metadata": {},
     "output_type": "execute_result"
    }
   ],
   "source": [
    "df2=pd.read_csv('CatalogueDiscontinuation.csv')\n",
    "df2"
   ]
  },
  {
   "cell_type": "code",
   "execution_count": 4,
   "metadata": {
    "colab": {
     "base_uri": "https://localhost:8080/",
     "height": 424
    },
    "id": "CBIfhi-BpaBd",
    "outputId": "3b410600-1935-4402-dfdc-cf4d5fc531cd"
   },
   "outputs": [
    {
     "data": {
      "text/html": [
       "<div>\n",
       "<style scoped>\n",
       "    .dataframe tbody tr th:only-of-type {\n",
       "        vertical-align: middle;\n",
       "    }\n",
       "\n",
       "    .dataframe tbody tr th {\n",
       "        vertical-align: top;\n",
       "    }\n",
       "\n",
       "    .dataframe thead th {\n",
       "        text-align: right;\n",
       "    }\n",
       "</style>\n",
       "<table border=\"1\" class=\"dataframe\">\n",
       "  <thead>\n",
       "    <tr style=\"text-align: right;\">\n",
       "      <th></th>\n",
       "      <th>ProductKey</th>\n",
       "      <th>Supplier</th>\n",
       "      <th>HierarchyLevel1</th>\n",
       "      <th>HierarchyLevel2</th>\n",
       "      <th>DIorDOM</th>\n",
       "      <th>Seasonal</th>\n",
       "      <th>CatEdition</th>\n",
       "      <th>SpringSummer</th>\n",
       "      <th>WeeksOut</th>\n",
       "      <th>Status</th>\n",
       "      <th>SalePriceIncVAT</th>\n",
       "      <th>ForecastPerWeek</th>\n",
       "      <th>ActualsPerWeek</th>\n",
       "      <th>DiscontinuedTF</th>\n",
       "    </tr>\n",
       "  </thead>\n",
       "  <tbody>\n",
       "    <tr>\n",
       "      <th>0</th>\n",
       "      <td>30437</td>\n",
       "      <td>13194</td>\n",
       "      <td>80445</td>\n",
       "      <td>28611</td>\n",
       "      <td>DOM</td>\n",
       "      <td>False</td>\n",
       "      <td>93</td>\n",
       "      <td>True</td>\n",
       "      <td>-18</td>\n",
       "      <td>RO</td>\n",
       "      <td>6.0</td>\n",
       "      <td>1.277</td>\n",
       "      <td>0.000</td>\n",
       "      <td>True</td>\n",
       "    </tr>\n",
       "    <tr>\n",
       "      <th>1</th>\n",
       "      <td>30437</td>\n",
       "      <td>13194</td>\n",
       "      <td>80445</td>\n",
       "      <td>28611</td>\n",
       "      <td>DOM</td>\n",
       "      <td>False</td>\n",
       "      <td>93</td>\n",
       "      <td>True</td>\n",
       "      <td>-17</td>\n",
       "      <td>RO</td>\n",
       "      <td>6.0</td>\n",
       "      <td>1.470</td>\n",
       "      <td>0.000</td>\n",
       "      <td>True</td>\n",
       "    </tr>\n",
       "    <tr>\n",
       "      <th>2</th>\n",
       "      <td>30437</td>\n",
       "      <td>13194</td>\n",
       "      <td>80445</td>\n",
       "      <td>28611</td>\n",
       "      <td>DOM</td>\n",
       "      <td>False</td>\n",
       "      <td>93</td>\n",
       "      <td>True</td>\n",
       "      <td>-16</td>\n",
       "      <td>RO</td>\n",
       "      <td>6.0</td>\n",
       "      <td>1.562</td>\n",
       "      <td>0.000</td>\n",
       "      <td>True</td>\n",
       "    </tr>\n",
       "    <tr>\n",
       "      <th>3</th>\n",
       "      <td>30437</td>\n",
       "      <td>13194</td>\n",
       "      <td>80445</td>\n",
       "      <td>28611</td>\n",
       "      <td>DOM</td>\n",
       "      <td>False</td>\n",
       "      <td>93</td>\n",
       "      <td>True</td>\n",
       "      <td>-15</td>\n",
       "      <td>RO</td>\n",
       "      <td>6.0</td>\n",
       "      <td>1.666</td>\n",
       "      <td>0.000</td>\n",
       "      <td>True</td>\n",
       "    </tr>\n",
       "    <tr>\n",
       "      <th>4</th>\n",
       "      <td>30437</td>\n",
       "      <td>13194</td>\n",
       "      <td>80445</td>\n",
       "      <td>28611</td>\n",
       "      <td>DOM</td>\n",
       "      <td>False</td>\n",
       "      <td>93</td>\n",
       "      <td>True</td>\n",
       "      <td>-14</td>\n",
       "      <td>RO</td>\n",
       "      <td>6.0</td>\n",
       "      <td>1.785</td>\n",
       "      <td>0.000</td>\n",
       "      <td>True</td>\n",
       "    </tr>\n",
       "    <tr>\n",
       "      <th>...</th>\n",
       "      <td>...</td>\n",
       "      <td>...</td>\n",
       "      <td>...</td>\n",
       "      <td>...</td>\n",
       "      <td>...</td>\n",
       "      <td>...</td>\n",
       "      <td>...</td>\n",
       "      <td>...</td>\n",
       "      <td>...</td>\n",
       "      <td>...</td>\n",
       "      <td>...</td>\n",
       "      <td>...</td>\n",
       "      <td>...</td>\n",
       "      <td>...</td>\n",
       "    </tr>\n",
       "    <tr>\n",
       "      <th>3625654</th>\n",
       "      <td>65087</td>\n",
       "      <td>15011</td>\n",
       "      <td>75452</td>\n",
       "      <td>6840</td>\n",
       "      <td>DI</td>\n",
       "      <td>False</td>\n",
       "      <td>92</td>\n",
       "      <td>False</td>\n",
       "      <td>-5</td>\n",
       "      <td>RO</td>\n",
       "      <td>7.0</td>\n",
       "      <td>80.200</td>\n",
       "      <td>80.850</td>\n",
       "      <td>True</td>\n",
       "    </tr>\n",
       "    <tr>\n",
       "      <th>3625655</th>\n",
       "      <td>65087</td>\n",
       "      <td>15011</td>\n",
       "      <td>75452</td>\n",
       "      <td>6840</td>\n",
       "      <td>DI</td>\n",
       "      <td>False</td>\n",
       "      <td>92</td>\n",
       "      <td>False</td>\n",
       "      <td>-4</td>\n",
       "      <td>RO</td>\n",
       "      <td>7.0</td>\n",
       "      <td>74.750</td>\n",
       "      <td>78.619</td>\n",
       "      <td>True</td>\n",
       "    </tr>\n",
       "    <tr>\n",
       "      <th>3625656</th>\n",
       "      <td>65087</td>\n",
       "      <td>15011</td>\n",
       "      <td>75452</td>\n",
       "      <td>6840</td>\n",
       "      <td>DI</td>\n",
       "      <td>False</td>\n",
       "      <td>92</td>\n",
       "      <td>False</td>\n",
       "      <td>-3</td>\n",
       "      <td>RO</td>\n",
       "      <td>7.0</td>\n",
       "      <td>70.333</td>\n",
       "      <td>76.590</td>\n",
       "      <td>True</td>\n",
       "    </tr>\n",
       "    <tr>\n",
       "      <th>3625657</th>\n",
       "      <td>65087</td>\n",
       "      <td>15011</td>\n",
       "      <td>75452</td>\n",
       "      <td>6840</td>\n",
       "      <td>DI</td>\n",
       "      <td>False</td>\n",
       "      <td>92</td>\n",
       "      <td>False</td>\n",
       "      <td>-2</td>\n",
       "      <td>RO</td>\n",
       "      <td>7.0</td>\n",
       "      <td>70.000</td>\n",
       "      <td>75.391</td>\n",
       "      <td>True</td>\n",
       "    </tr>\n",
       "    <tr>\n",
       "      <th>3625658</th>\n",
       "      <td>65087</td>\n",
       "      <td>15011</td>\n",
       "      <td>75452</td>\n",
       "      <td>6840</td>\n",
       "      <td>DI</td>\n",
       "      <td>False</td>\n",
       "      <td>92</td>\n",
       "      <td>False</td>\n",
       "      <td>-1</td>\n",
       "      <td>RO</td>\n",
       "      <td>7.0</td>\n",
       "      <td>69.000</td>\n",
       "      <td>73.708</td>\n",
       "      <td>True</td>\n",
       "    </tr>\n",
       "  </tbody>\n",
       "</table>\n",
       "<p>3625659 rows × 14 columns</p>\n",
       "</div>"
      ],
      "text/plain": [
       "         ProductKey  Supplier  HierarchyLevel1  HierarchyLevel2 DIorDOM  \\\n",
       "0             30437     13194            80445            28611     DOM   \n",
       "1             30437     13194            80445            28611     DOM   \n",
       "2             30437     13194            80445            28611     DOM   \n",
       "3             30437     13194            80445            28611     DOM   \n",
       "4             30437     13194            80445            28611     DOM   \n",
       "...             ...       ...              ...              ...     ...   \n",
       "3625654       65087     15011            75452             6840      DI   \n",
       "3625655       65087     15011            75452             6840      DI   \n",
       "3625656       65087     15011            75452             6840      DI   \n",
       "3625657       65087     15011            75452             6840      DI   \n",
       "3625658       65087     15011            75452             6840      DI   \n",
       "\n",
       "         Seasonal  CatEdition  SpringSummer  WeeksOut Status  SalePriceIncVAT  \\\n",
       "0           False          93          True       -18     RO              6.0   \n",
       "1           False          93          True       -17     RO              6.0   \n",
       "2           False          93          True       -16     RO              6.0   \n",
       "3           False          93          True       -15     RO              6.0   \n",
       "4           False          93          True       -14     RO              6.0   \n",
       "...           ...         ...           ...       ...    ...              ...   \n",
       "3625654     False          92         False        -5     RO              7.0   \n",
       "3625655     False          92         False        -4     RO              7.0   \n",
       "3625656     False          92         False        -3     RO              7.0   \n",
       "3625657     False          92         False        -2     RO              7.0   \n",
       "3625658     False          92         False        -1     RO              7.0   \n",
       "\n",
       "         ForecastPerWeek  ActualsPerWeek  DiscontinuedTF  \n",
       "0                  1.277           0.000            True  \n",
       "1                  1.470           0.000            True  \n",
       "2                  1.562           0.000            True  \n",
       "3                  1.666           0.000            True  \n",
       "4                  1.785           0.000            True  \n",
       "...                  ...             ...             ...  \n",
       "3625654           80.200          80.850            True  \n",
       "3625655           74.750          78.619            True  \n",
       "3625656           70.333          76.590            True  \n",
       "3625657           70.000          75.391            True  \n",
       "3625658           69.000          73.708            True  \n",
       "\n",
       "[3625659 rows x 14 columns]"
      ]
     },
     "execution_count": 4,
     "metadata": {},
     "output_type": "execute_result"
    }
   ],
   "source": [
    "df = pd.merge(df1, df2, on = 'ProductKey')\n",
    "df"
   ]
  },
  {
   "cell_type": "code",
   "execution_count": 5,
   "metadata": {
    "colab": {
     "base_uri": "https://localhost:8080/",
     "height": 363
    },
    "id": "NrLRn8k7sFHD",
    "outputId": "ffcc0003-094a-473a-97e3-a291b340344b"
   },
   "outputs": [
    {
     "data": {
      "text/html": [
       "<div>\n",
       "<style scoped>\n",
       "    .dataframe tbody tr th:only-of-type {\n",
       "        vertical-align: middle;\n",
       "    }\n",
       "\n",
       "    .dataframe tbody tr th {\n",
       "        vertical-align: top;\n",
       "    }\n",
       "\n",
       "    .dataframe thead th {\n",
       "        text-align: right;\n",
       "    }\n",
       "</style>\n",
       "<table border=\"1\" class=\"dataframe\">\n",
       "  <thead>\n",
       "    <tr style=\"text-align: right;\">\n",
       "      <th></th>\n",
       "      <th>ProductKey</th>\n",
       "      <th>Supplier</th>\n",
       "      <th>HierarchyLevel1</th>\n",
       "      <th>HierarchyLevel2</th>\n",
       "      <th>DIorDOM</th>\n",
       "      <th>Seasonal</th>\n",
       "      <th>CatEdition</th>\n",
       "      <th>SpringSummer</th>\n",
       "      <th>WeeksOut</th>\n",
       "      <th>Status</th>\n",
       "      <th>SalePriceIncVAT</th>\n",
       "      <th>ForecastPerWeek</th>\n",
       "      <th>ActualsPerWeek</th>\n",
       "      <th>DiscontinuedTF</th>\n",
       "    </tr>\n",
       "  </thead>\n",
       "  <tbody>\n",
       "    <tr>\n",
       "      <th>0</th>\n",
       "      <td>30437</td>\n",
       "      <td>13194</td>\n",
       "      <td>80445</td>\n",
       "      <td>28611</td>\n",
       "      <td>DOM</td>\n",
       "      <td>False</td>\n",
       "      <td>93</td>\n",
       "      <td>True</td>\n",
       "      <td>-18</td>\n",
       "      <td>RO</td>\n",
       "      <td>6.0</td>\n",
       "      <td>1.277</td>\n",
       "      <td>0.000</td>\n",
       "      <td>True</td>\n",
       "    </tr>\n",
       "    <tr>\n",
       "      <th>1</th>\n",
       "      <td>30437</td>\n",
       "      <td>13194</td>\n",
       "      <td>80445</td>\n",
       "      <td>28611</td>\n",
       "      <td>DOM</td>\n",
       "      <td>False</td>\n",
       "      <td>93</td>\n",
       "      <td>True</td>\n",
       "      <td>-17</td>\n",
       "      <td>RO</td>\n",
       "      <td>6.0</td>\n",
       "      <td>1.470</td>\n",
       "      <td>0.000</td>\n",
       "      <td>True</td>\n",
       "    </tr>\n",
       "    <tr>\n",
       "      <th>2</th>\n",
       "      <td>30437</td>\n",
       "      <td>13194</td>\n",
       "      <td>80445</td>\n",
       "      <td>28611</td>\n",
       "      <td>DOM</td>\n",
       "      <td>False</td>\n",
       "      <td>93</td>\n",
       "      <td>True</td>\n",
       "      <td>-16</td>\n",
       "      <td>RO</td>\n",
       "      <td>6.0</td>\n",
       "      <td>1.562</td>\n",
       "      <td>0.000</td>\n",
       "      <td>True</td>\n",
       "    </tr>\n",
       "    <tr>\n",
       "      <th>3</th>\n",
       "      <td>30437</td>\n",
       "      <td>13194</td>\n",
       "      <td>80445</td>\n",
       "      <td>28611</td>\n",
       "      <td>DOM</td>\n",
       "      <td>False</td>\n",
       "      <td>93</td>\n",
       "      <td>True</td>\n",
       "      <td>-15</td>\n",
       "      <td>RO</td>\n",
       "      <td>6.0</td>\n",
       "      <td>1.666</td>\n",
       "      <td>0.000</td>\n",
       "      <td>True</td>\n",
       "    </tr>\n",
       "    <tr>\n",
       "      <th>4</th>\n",
       "      <td>30437</td>\n",
       "      <td>13194</td>\n",
       "      <td>80445</td>\n",
       "      <td>28611</td>\n",
       "      <td>DOM</td>\n",
       "      <td>False</td>\n",
       "      <td>93</td>\n",
       "      <td>True</td>\n",
       "      <td>-14</td>\n",
       "      <td>RO</td>\n",
       "      <td>6.0</td>\n",
       "      <td>1.785</td>\n",
       "      <td>0.000</td>\n",
       "      <td>True</td>\n",
       "    </tr>\n",
       "    <tr>\n",
       "      <th>5</th>\n",
       "      <td>30437</td>\n",
       "      <td>13194</td>\n",
       "      <td>80445</td>\n",
       "      <td>28611</td>\n",
       "      <td>DOM</td>\n",
       "      <td>False</td>\n",
       "      <td>93</td>\n",
       "      <td>True</td>\n",
       "      <td>-13</td>\n",
       "      <td>RO</td>\n",
       "      <td>6.0</td>\n",
       "      <td>1.923</td>\n",
       "      <td>0.000</td>\n",
       "      <td>True</td>\n",
       "    </tr>\n",
       "    <tr>\n",
       "      <th>6</th>\n",
       "      <td>30437</td>\n",
       "      <td>13194</td>\n",
       "      <td>80445</td>\n",
       "      <td>28611</td>\n",
       "      <td>DOM</td>\n",
       "      <td>False</td>\n",
       "      <td>93</td>\n",
       "      <td>True</td>\n",
       "      <td>-12</td>\n",
       "      <td>RO</td>\n",
       "      <td>6.0</td>\n",
       "      <td>2.000</td>\n",
       "      <td>0.000</td>\n",
       "      <td>True</td>\n",
       "    </tr>\n",
       "    <tr>\n",
       "      <th>7</th>\n",
       "      <td>30437</td>\n",
       "      <td>13194</td>\n",
       "      <td>80445</td>\n",
       "      <td>28611</td>\n",
       "      <td>DOM</td>\n",
       "      <td>False</td>\n",
       "      <td>93</td>\n",
       "      <td>True</td>\n",
       "      <td>-11</td>\n",
       "      <td>RO</td>\n",
       "      <td>6.0</td>\n",
       "      <td>0.727</td>\n",
       "      <td>0.000</td>\n",
       "      <td>True</td>\n",
       "    </tr>\n",
       "    <tr>\n",
       "      <th>8</th>\n",
       "      <td>30437</td>\n",
       "      <td>13194</td>\n",
       "      <td>80445</td>\n",
       "      <td>28611</td>\n",
       "      <td>DOM</td>\n",
       "      <td>False</td>\n",
       "      <td>93</td>\n",
       "      <td>True</td>\n",
       "      <td>-10</td>\n",
       "      <td>RO</td>\n",
       "      <td>6.0</td>\n",
       "      <td>0.500</td>\n",
       "      <td>0.000</td>\n",
       "      <td>True</td>\n",
       "    </tr>\n",
       "    <tr>\n",
       "      <th>9</th>\n",
       "      <td>30437</td>\n",
       "      <td>13194</td>\n",
       "      <td>80445</td>\n",
       "      <td>28611</td>\n",
       "      <td>DOM</td>\n",
       "      <td>False</td>\n",
       "      <td>93</td>\n",
       "      <td>True</td>\n",
       "      <td>-8</td>\n",
       "      <td>RO</td>\n",
       "      <td>6.0</td>\n",
       "      <td>0.500</td>\n",
       "      <td>0.058</td>\n",
       "      <td>True</td>\n",
       "    </tr>\n",
       "  </tbody>\n",
       "</table>\n",
       "</div>"
      ],
      "text/plain": [
       "   ProductKey  Supplier  HierarchyLevel1  HierarchyLevel2 DIorDOM  Seasonal  \\\n",
       "0       30437     13194            80445            28611     DOM     False   \n",
       "1       30437     13194            80445            28611     DOM     False   \n",
       "2       30437     13194            80445            28611     DOM     False   \n",
       "3       30437     13194            80445            28611     DOM     False   \n",
       "4       30437     13194            80445            28611     DOM     False   \n",
       "5       30437     13194            80445            28611     DOM     False   \n",
       "6       30437     13194            80445            28611     DOM     False   \n",
       "7       30437     13194            80445            28611     DOM     False   \n",
       "8       30437     13194            80445            28611     DOM     False   \n",
       "9       30437     13194            80445            28611     DOM     False   \n",
       "\n",
       "   CatEdition  SpringSummer  WeeksOut Status  SalePriceIncVAT  \\\n",
       "0          93          True       -18     RO              6.0   \n",
       "1          93          True       -17     RO              6.0   \n",
       "2          93          True       -16     RO              6.0   \n",
       "3          93          True       -15     RO              6.0   \n",
       "4          93          True       -14     RO              6.0   \n",
       "5          93          True       -13     RO              6.0   \n",
       "6          93          True       -12     RO              6.0   \n",
       "7          93          True       -11     RO              6.0   \n",
       "8          93          True       -10     RO              6.0   \n",
       "9          93          True        -8     RO              6.0   \n",
       "\n",
       "   ForecastPerWeek  ActualsPerWeek  DiscontinuedTF  \n",
       "0            1.277           0.000            True  \n",
       "1            1.470           0.000            True  \n",
       "2            1.562           0.000            True  \n",
       "3            1.666           0.000            True  \n",
       "4            1.785           0.000            True  \n",
       "5            1.923           0.000            True  \n",
       "6            2.000           0.000            True  \n",
       "7            0.727           0.000            True  \n",
       "8            0.500           0.000            True  \n",
       "9            0.500           0.058            True  "
      ]
     },
     "execution_count": 5,
     "metadata": {},
     "output_type": "execute_result"
    }
   ],
   "source": [
    "df.head(10)"
   ]
  },
  {
   "cell_type": "markdown",
   "metadata": {
    "id": "30SUcY9j6xCE"
   },
   "source": [
    "**Finding out any missing and duplicate values**"
   ]
  },
  {
   "cell_type": "code",
   "execution_count": 6,
   "metadata": {
    "colab": {
     "base_uri": "https://localhost:8080/"
    },
    "id": "6x3Efi8gvhnJ",
    "outputId": "1c779082-376f-45bf-b515-b37efe27a805"
   },
   "outputs": [
    {
     "name": "stdout",
     "output_type": "stream",
     "text": [
      "Null values:\n",
      "\n",
      "ProductKey         0\n",
      "Supplier           0\n",
      "HierarchyLevel1    0\n",
      "HierarchyLevel2    0\n",
      "DIorDOM            0\n",
      "Seasonal           0\n",
      "CatEdition         0\n",
      "SpringSummer       0\n",
      "WeeksOut           0\n",
      "Status             0\n",
      "SalePriceIncVAT    0\n",
      "ForecastPerWeek    0\n",
      "ActualsPerWeek     0\n",
      "DiscontinuedTF     0\n",
      "dtype: int64 \n",
      "\n",
      "**************************************************\n",
      "Duplicated values = 0\n"
     ]
    }
   ],
   "source": [
    "def missing_duplicate_values(x):\n",
    "    print('Null values:\\n')\n",
    "    print(x.isnull().sum(),'\\n')\n",
    "    print('*'*50)\n",
    "    print('Duplicated values =', x.duplicated().sum())\n",
    "    \n",
    "missing_duplicate_values(df)"
   ]
  },
  {
   "cell_type": "code",
   "execution_count": 7,
   "metadata": {
    "colab": {
     "base_uri": "https://localhost:8080/",
     "height": 607
    },
    "id": "_ZFnZDgqxHg1",
    "outputId": "38c1109e-da2b-4ad7-a707-eb36e3d6aa10"
   },
   "outputs": [
    {
     "data": {
      "image/png": "[encoded data removed]",
      "text/plain": [
       "<Figure size 720x720 with 9 Axes>"
      ]
     },
     "metadata": {
      "needs_background": "light"
     },
     "output_type": "display_data"
    }
   ],
   "source": [
    "df.hist(bins=10,figsize=(10,10))   #Histrogram of each coloumn\n",
    "plt.show()"
   ]
  },
  {
   "cell_type": "code",
   "execution_count": 8,
   "metadata": {
    "colab": {
     "base_uri": "https://localhost:8080/",
     "height": 298
    },
    "id": "MjJL7OBQxLtD",
    "outputId": "509abb02-7891-4e93-c3fc-6a59b3d5ef7a"
   },
   "outputs": [
    {
     "data": {
      "text/plain": [
       "<AxesSubplot:>"
      ]
     },
     "execution_count": 8,
     "metadata": {},
     "output_type": "execute_result"
    },
    {
     "data": {
      "image/png": "[encoded data removed]",
      "text/plain": [
       "<Figure size 432x288 with 1 Axes>"
      ]
     },
     "metadata": {
      "needs_background": "light"
     },
     "output_type": "display_data"
    }
   ],
   "source": [
    "df['Status'].value_counts().plot(kind = 'bar')  #i find RI and RO values to perdict the model better beacause they don't have balance figures"
   ]
  },
  {
   "cell_type": "code",
   "execution_count": 9,
   "metadata": {
    "colab": {
     "base_uri": "https://localhost:8080/",
     "height": 307
    },
    "id": "B7imDJSQxQP8",
    "outputId": "4ec3f9c3-9240-4661-932b-d1b67167285f"
   },
   "outputs": [
    {
     "data": {
      "text/plain": [
       "<AxesSubplot:>"
      ]
     },
     "execution_count": 9,
     "metadata": {},
     "output_type": "execute_result"
    },
    {
     "data": {
      "image/png": "[encoded data removed]",
      "text/plain": [
       "<Figure size 432x288 with 1 Axes>"
      ]
     },
     "metadata": {
      "needs_background": "light"
     },
     "output_type": "display_data"
    }
   ],
   "source": [
    "df['DIorDOM'].value_counts().plot(kind = 'bar')"
   ]
  },
  {
   "cell_type": "code",
   "execution_count": 10,
   "metadata": {
    "colab": {
     "base_uri": "https://localhost:8080/",
     "height": 279
    },
    "id": "-Cd_ulfAxVGd",
    "outputId": "15129d61-1478-4085-b249-ad852819f1dc"
   },
   "outputs": [
    {
     "data": {
      "image/png": "[encoded data removed]",
      "text/plain": [
       "<Figure size 576x288 with 1 Axes>"
      ]
     },
     "metadata": {
      "needs_background": "light"
     },
     "output_type": "display_data"
    }
   ],
   "source": [
    "plt.figure(figsize=(8,4))\n",
    "ax = sns.barplot(x=\"DIorDOM\", y=\"SalePriceIncVAT\", data=df)"
   ]
  },
  {
   "cell_type": "code",
   "execution_count": 11,
   "metadata": {
    "colab": {
     "base_uri": "https://localhost:8080/",
     "height": 731
    },
    "id": "0R2P5_Hpxn43",
    "outputId": "a7f6671a-ff27-4357-955a-9debbeb24582"
   },
   "outputs": [
    {
     "data": {
      "text/plain": [
       "<AxesSubplot:xlabel='ActualsPerWeek'>"
      ]
     },
     "execution_count": 11,
     "metadata": {},
     "output_type": "execute_result"
    },
    {
     "data": {
      "image/png": "[encoded data removed]",
      "text/plain": [
       "<Figure size 1152x864 with 7 Axes>"
      ]
     },
     "metadata": {
      "needs_background": "light"
     },
     "output_type": "display_data"
    }
   ],
   "source": [
    "plt.figure(figsize=(16,12))\n",
    "\n",
    "sns.set_style(style='whitegrid')\n",
    "plt.subplot(3,3,1)\n",
    "sns.boxplot(x='HierarchyLevel1',data=df)\n",
    "\n",
    "plt.subplot(3,3,2)\n",
    "sns.boxplot(x='HierarchyLevel2',data=df)\n",
    "\n",
    "plt.subplot(3,3,3)\n",
    "sns.boxplot(x='CatEdition',data=df)\n",
    "\n",
    "plt.subplot(3,3,4)\n",
    "sns.boxplot(x='WeeksOut',data=df)\n",
    "\n",
    "plt.subplot(3,3,5)\n",
    "sns.boxplot(x='SalePriceIncVAT',data=df)\n",
    "\n",
    "plt.subplot(3,3,6)\n",
    "sns.boxplot(x='ForecastPerWeek',data=df)\n",
    "\n",
    "plt.subplot(3,3,7)\n",
    "sns.boxplot(x='ActualsPerWeek',data=df)    \n",
    "# Box plot clearly says that the columns SalePriceIncVAT, ForecastPerWeek and ActualsPerWeek have many outliers"
   ]
  },
  {
   "cell_type": "code",
   "execution_count": 12,
   "metadata": {
    "colab": {
     "base_uri": "https://localhost:8080/",
     "height": 917,
     "referenced_widgets": [
      "9be292a63cd8483b8ef8f2a20be51595",
      "0801df89cbf546099e2bca177957716b",
      "5b95db6bf21d4ec1bb26abd43a09321f",
      "ca3bb79a567043e5acb7b4a1a5512a4b",
      "136787eea86344318881774a5982b150",
      "9e7f7ed3d7174247beb8a412c5bac21a",
      "ba1db85cb1cd40348470dd8ab7560d84",
      "7627c0499e2c43eba9b0287c7921fcfd",
      "bd1abd48fa984d07a07df73dd6b65813",
      "5316b779d7ae43baa05f1154edaeb43f",
      "9ec2500579004df5b616862edf57cc8b",
      "f4860187ac3d47e39dc23c7428f412f5",
      "7f8d1545f02d44e0a293b301edf5f2ea",
      "2d56c3b4f1904c24a44fc78a4e8ca898",
      "ef843783a00049948993ba96caf041e9",
      "0e0c1d17410148ca87522b7a6114b2ca",
      "22ce0ff57b254cee83b03368bb559a17",
      "de2df78f6de44820961c521d2fb81808",
      "573f800809a34fe7994f83ab39d68891",
      "68f96d04109a48a9b5faf2575d7d08ab",
      "42d766dd83a9416e956a9fad69f6e522",
      "439a67005d6441c4a51b119439ab9023",
      "773e475493f74e70816f6e40dc0fb3ca",
      "1cf195568e4f4458b873b2e100b1552b",
      "914f27702fad48df84630d5dcc116c65",
      "fe354feed45949e8b703491c2cf280d5",
      "04f57022f9164c6eb5a7449784b436c9",
      "e2795bb055c247bbad1be2b07f80986e",
      "dbd888d620314bde9e6a0519b1beb3e4",
      "d43008e9f60f4a128456590bba4a6c8a",
      "9e76a6c3a58a40cca02587dde869cece",
      "26a97495860243e9b3e54b0b2cf426d2",
      "ab081972abc4487286734568af149eb0"
     ]
    },
    "id": "vTb4-9j22_gA",
    "outputId": "160c4030-1090-4f7d-8c29-e17497be81e0"
   },
   "outputs": [],
   "source": [
    "# from ydata_profiling import ProfileReport\n",
    "# prof = ProfileReport(df)\n",
    "# prof"
   ]
  },
  {
   "cell_type": "markdown",
   "metadata": {
    "id": "Jz7aRqGP695o"
   },
   "source": [
    "**Feature Transformation**"
   ]
  },
  {
   "cell_type": "code",
   "execution_count": 13,
   "metadata": {
    "colab": {
     "base_uri": "https://localhost:8080/"
    },
    "id": "Lt6sOdAAwWOP",
    "outputId": "ab784a22-af1b-4f56-f650-32055fbff5f9"
   },
   "outputs": [
    {
     "data": {
      "text/plain": [
       "0    1\n",
       "1    1\n",
       "2    1\n",
       "3    1\n",
       "4    1\n",
       "Name: DIorDOM, dtype: int64"
      ]
     },
     "execution_count": 13,
     "metadata": {},
     "output_type": "execute_result"
    }
   ],
   "source": [
    "def assigning_values(x):\n",
    "    if x == 'DOM':\n",
    "        return 1\n",
    "    elif x == 'DI':\n",
    "        return 2\n",
    "    \n",
    "df['DIorDOM']= df['DIorDOM'].map(assigning_values)\n",
    "df['DIorDOM'].head()\n"
   ]
  },
  {
   "cell_type": "code",
   "execution_count": 14,
   "metadata": {
    "colab": {
     "base_uri": "https://localhost:8080/",
     "height": 424
    },
    "id": "swdeUsiXwqGq",
    "outputId": "29ac9e12-30ea-4eba-86a7-55119b5fddb0"
   },
   "outputs": [
    {
     "data": {
      "text/html": [
       "<div>\n",
       "<style scoped>\n",
       "    .dataframe tbody tr th:only-of-type {\n",
       "        vertical-align: middle;\n",
       "    }\n",
       "\n",
       "    .dataframe tbody tr th {\n",
       "        vertical-align: top;\n",
       "    }\n",
       "\n",
       "    .dataframe thead th {\n",
       "        text-align: right;\n",
       "    }\n",
       "</style>\n",
       "<table border=\"1\" class=\"dataframe\">\n",
       "  <thead>\n",
       "    <tr style=\"text-align: right;\">\n",
       "      <th></th>\n",
       "      <th>ProductKey</th>\n",
       "      <th>Supplier</th>\n",
       "      <th>HierarchyLevel1</th>\n",
       "      <th>HierarchyLevel2</th>\n",
       "      <th>DIorDOM</th>\n",
       "      <th>Seasonal</th>\n",
       "      <th>CatEdition</th>\n",
       "      <th>SpringSummer</th>\n",
       "      <th>WeeksOut</th>\n",
       "      <th>Status</th>\n",
       "      <th>SalePriceIncVAT</th>\n",
       "      <th>ForecastPerWeek</th>\n",
       "      <th>ActualsPerWeek</th>\n",
       "      <th>DiscontinuedTF</th>\n",
       "    </tr>\n",
       "  </thead>\n",
       "  <tbody>\n",
       "    <tr>\n",
       "      <th>0</th>\n",
       "      <td>30437</td>\n",
       "      <td>13194</td>\n",
       "      <td>80445</td>\n",
       "      <td>28611</td>\n",
       "      <td>1</td>\n",
       "      <td>0</td>\n",
       "      <td>93</td>\n",
       "      <td>1</td>\n",
       "      <td>-18</td>\n",
       "      <td>RO</td>\n",
       "      <td>6.0</td>\n",
       "      <td>1.277</td>\n",
       "      <td>0.000</td>\n",
       "      <td>1</td>\n",
       "    </tr>\n",
       "    <tr>\n",
       "      <th>1</th>\n",
       "      <td>30437</td>\n",
       "      <td>13194</td>\n",
       "      <td>80445</td>\n",
       "      <td>28611</td>\n",
       "      <td>1</td>\n",
       "      <td>0</td>\n",
       "      <td>93</td>\n",
       "      <td>1</td>\n",
       "      <td>-17</td>\n",
       "      <td>RO</td>\n",
       "      <td>6.0</td>\n",
       "      <td>1.470</td>\n",
       "      <td>0.000</td>\n",
       "      <td>1</td>\n",
       "    </tr>\n",
       "    <tr>\n",
       "      <th>2</th>\n",
       "      <td>30437</td>\n",
       "      <td>13194</td>\n",
       "      <td>80445</td>\n",
       "      <td>28611</td>\n",
       "      <td>1</td>\n",
       "      <td>0</td>\n",
       "      <td>93</td>\n",
       "      <td>1</td>\n",
       "      <td>-16</td>\n",
       "      <td>RO</td>\n",
       "      <td>6.0</td>\n",
       "      <td>1.562</td>\n",
       "      <td>0.000</td>\n",
       "      <td>1</td>\n",
       "    </tr>\n",
       "    <tr>\n",
       "      <th>3</th>\n",
       "      <td>30437</td>\n",
       "      <td>13194</td>\n",
       "      <td>80445</td>\n",
       "      <td>28611</td>\n",
       "      <td>1</td>\n",
       "      <td>0</td>\n",
       "      <td>93</td>\n",
       "      <td>1</td>\n",
       "      <td>-15</td>\n",
       "      <td>RO</td>\n",
       "      <td>6.0</td>\n",
       "      <td>1.666</td>\n",
       "      <td>0.000</td>\n",
       "      <td>1</td>\n",
       "    </tr>\n",
       "    <tr>\n",
       "      <th>4</th>\n",
       "      <td>30437</td>\n",
       "      <td>13194</td>\n",
       "      <td>80445</td>\n",
       "      <td>28611</td>\n",
       "      <td>1</td>\n",
       "      <td>0</td>\n",
       "      <td>93</td>\n",
       "      <td>1</td>\n",
       "      <td>-14</td>\n",
       "      <td>RO</td>\n",
       "      <td>6.0</td>\n",
       "      <td>1.785</td>\n",
       "      <td>0.000</td>\n",
       "      <td>1</td>\n",
       "    </tr>\n",
       "    <tr>\n",
       "      <th>...</th>\n",
       "      <td>...</td>\n",
       "      <td>...</td>\n",
       "      <td>...</td>\n",
       "      <td>...</td>\n",
       "      <td>...</td>\n",
       "      <td>...</td>\n",
       "      <td>...</td>\n",
       "      <td>...</td>\n",
       "      <td>...</td>\n",
       "      <td>...</td>\n",
       "      <td>...</td>\n",
       "      <td>...</td>\n",
       "      <td>...</td>\n",
       "      <td>...</td>\n",
       "    </tr>\n",
       "    <tr>\n",
       "      <th>3625654</th>\n",
       "      <td>65087</td>\n",
       "      <td>15011</td>\n",
       "      <td>75452</td>\n",
       "      <td>6840</td>\n",
       "      <td>2</td>\n",
       "      <td>0</td>\n",
       "      <td>92</td>\n",
       "      <td>0</td>\n",
       "      <td>-5</td>\n",
       "      <td>RO</td>\n",
       "      <td>7.0</td>\n",
       "      <td>80.200</td>\n",
       "      <td>80.850</td>\n",
       "      <td>1</td>\n",
       "    </tr>\n",
       "    <tr>\n",
       "      <th>3625655</th>\n",
       "      <td>65087</td>\n",
       "      <td>15011</td>\n",
       "      <td>75452</td>\n",
       "      <td>6840</td>\n",
       "      <td>2</td>\n",
       "      <td>0</td>\n",
       "      <td>92</td>\n",
       "      <td>0</td>\n",
       "      <td>-4</td>\n",
       "      <td>RO</td>\n",
       "      <td>7.0</td>\n",
       "      <td>74.750</td>\n",
       "      <td>78.619</td>\n",
       "      <td>1</td>\n",
       "    </tr>\n",
       "    <tr>\n",
       "      <th>3625656</th>\n",
       "      <td>65087</td>\n",
       "      <td>15011</td>\n",
       "      <td>75452</td>\n",
       "      <td>6840</td>\n",
       "      <td>2</td>\n",
       "      <td>0</td>\n",
       "      <td>92</td>\n",
       "      <td>0</td>\n",
       "      <td>-3</td>\n",
       "      <td>RO</td>\n",
       "      <td>7.0</td>\n",
       "      <td>70.333</td>\n",
       "      <td>76.590</td>\n",
       "      <td>1</td>\n",
       "    </tr>\n",
       "    <tr>\n",
       "      <th>3625657</th>\n",
       "      <td>65087</td>\n",
       "      <td>15011</td>\n",
       "      <td>75452</td>\n",
       "      <td>6840</td>\n",
       "      <td>2</td>\n",
       "      <td>0</td>\n",
       "      <td>92</td>\n",
       "      <td>0</td>\n",
       "      <td>-2</td>\n",
       "      <td>RO</td>\n",
       "      <td>7.0</td>\n",
       "      <td>70.000</td>\n",
       "      <td>75.391</td>\n",
       "      <td>1</td>\n",
       "    </tr>\n",
       "    <tr>\n",
       "      <th>3625658</th>\n",
       "      <td>65087</td>\n",
       "      <td>15011</td>\n",
       "      <td>75452</td>\n",
       "      <td>6840</td>\n",
       "      <td>2</td>\n",
       "      <td>0</td>\n",
       "      <td>92</td>\n",
       "      <td>0</td>\n",
       "      <td>-1</td>\n",
       "      <td>RO</td>\n",
       "      <td>7.0</td>\n",
       "      <td>69.000</td>\n",
       "      <td>73.708</td>\n",
       "      <td>1</td>\n",
       "    </tr>\n",
       "  </tbody>\n",
       "</table>\n",
       "<p>3625659 rows × 14 columns</p>\n",
       "</div>"
      ],
      "text/plain": [
       "         ProductKey  Supplier  HierarchyLevel1  HierarchyLevel2  DIorDOM  \\\n",
       "0             30437     13194            80445            28611        1   \n",
       "1             30437     13194            80445            28611        1   \n",
       "2             30437     13194            80445            28611        1   \n",
       "3             30437     13194            80445            28611        1   \n",
       "4             30437     13194            80445            28611        1   \n",
       "...             ...       ...              ...              ...      ...   \n",
       "3625654       65087     15011            75452             6840        2   \n",
       "3625655       65087     15011            75452             6840        2   \n",
       "3625656       65087     15011            75452             6840        2   \n",
       "3625657       65087     15011            75452             6840        2   \n",
       "3625658       65087     15011            75452             6840        2   \n",
       "\n",
       "         Seasonal  CatEdition  SpringSummer  WeeksOut Status  SalePriceIncVAT  \\\n",
       "0               0          93             1       -18     RO              6.0   \n",
       "1               0          93             1       -17     RO              6.0   \n",
       "2               0          93             1       -16     RO              6.0   \n",
       "3               0          93             1       -15     RO              6.0   \n",
       "4               0          93             1       -14     RO              6.0   \n",
       "...           ...         ...           ...       ...    ...              ...   \n",
       "3625654         0          92             0        -5     RO              7.0   \n",
       "3625655         0          92             0        -4     RO              7.0   \n",
       "3625656         0          92             0        -3     RO              7.0   \n",
       "3625657         0          92             0        -2     RO              7.0   \n",
       "3625658         0          92             0        -1     RO              7.0   \n",
       "\n",
       "         ForecastPerWeek  ActualsPerWeek  DiscontinuedTF  \n",
       "0                  1.277           0.000               1  \n",
       "1                  1.470           0.000               1  \n",
       "2                  1.562           0.000               1  \n",
       "3                  1.666           0.000               1  \n",
       "4                  1.785           0.000               1  \n",
       "...                  ...             ...             ...  \n",
       "3625654           80.200          80.850               1  \n",
       "3625655           74.750          78.619               1  \n",
       "3625656           70.333          76.590               1  \n",
       "3625657           70.000          75.391               1  \n",
       "3625658           69.000          73.708               1  \n",
       "\n",
       "[3625659 rows x 14 columns]"
      ]
     },
     "execution_count": 14,
     "metadata": {},
     "output_type": "execute_result"
    }
   ],
   "source": [
    "df['Seasonal']= df['Seasonal'].astype(int)\n",
    "df['SpringSummer']= df['SpringSummer'].astype(int)\n",
    "df['DiscontinuedTF']= df['DiscontinuedTF'].astype(int)\n",
    "df"
   ]
  },
  {
   "cell_type": "code",
   "execution_count": 15,
   "metadata": {},
   "outputs": [
    {
     "data": {
      "text/plain": [
       "0    2186167\n",
       "1    1439492\n",
       "Name: DiscontinuedTF, dtype: int64"
      ]
     },
     "execution_count": 15,
     "metadata": {},
     "output_type": "execute_result"
    }
   ],
   "source": [
    "df['DiscontinuedTF'].value_counts()"
   ]
  },
  {
   "cell_type": "code",
   "execution_count": 16,
   "metadata": {
    "colab": {
     "base_uri": "https://localhost:8080/"
    },
    "id": "KDep3apBvzSX",
    "outputId": "a5f5ff34-9b34-47ae-bf5c-0a14d446ada1"
   },
   "outputs": [
    {
     "data": {
      "text/plain": [
       "0    0\n",
       "1    0\n",
       "2    0\n",
       "3    0\n",
       "4    0\n",
       "Name: Status, dtype: int64"
      ]
     },
     "execution_count": 16,
     "metadata": {},
     "output_type": "execute_result"
    }
   ],
   "source": [
    "def predicted_values(x):\n",
    "    if x == 'RI':\n",
    "        return 1\n",
    "    elif x == 'RO':\n",
    "        return 0\n",
    "    \n",
    "df['Status']= df['Status'].map(predicted_values)\n",
    "df['Status'].head()"
   ]
  },
  {
   "cell_type": "code",
   "execution_count": 17,
   "metadata": {
    "colab": {
     "base_uri": "https://localhost:8080/",
     "height": 1000
    },
    "id": "uuqKXwLfs5qL",
    "outputId": "fb9b2ee3-b565-438d-b2aa-4225aa68d8b0"
   },
   "outputs": [
    {
     "data": {
      "text/plain": [
       "<AxesSubplot:>"
      ]
     },
     "execution_count": 17,
     "metadata": {},
     "output_type": "execute_result"
    },
    {
     "data": {
      "image/png": "[encoded data removed]",
      "text/plain": [
       "<Figure size 1152x864 with 2 Axes>"
      ]
     },
     "metadata": {},
     "output_type": "display_data"
    }
   ],
   "source": [
    "plt.figure(figsize=(16,12))\n",
    "sns.heatmap(df.corr(), annot=True,cmap=\"Blues\")  #the target coloumn has the strong corelation with status 64%"
   ]
  },
  {
   "cell_type": "markdown",
   "metadata": {
    "id": "_UzEhulB7G6N"
   },
   "source": [
    "**Baseline Accuracy**"
   ]
  },
  {
   "cell_type": "code",
   "execution_count": 18,
   "metadata": {
    "id": "J5wQKSu6wt9o"
   },
   "outputs": [],
   "source": [
    "X = df[df.columns[:-1]].values\n",
    "y = df['DiscontinuedTF'].values  #baseline accuary is a dummy classifier "
   ]
  },
  {
   "cell_type": "code",
   "execution_count": 19,
   "metadata": {
    "colab": {
     "base_uri": "https://localhost:8080/"
    },
    "id": "hCLUkN6-wy0V",
    "outputId": "e67f1664-7861-4ba8-b13b-a2d877e1eab9"
   },
   "outputs": [
    {
     "name": "stdout",
     "output_type": "stream",
     "text": [
      "the baseline accuracy is 0.6029709357664358\n"
     ]
    }
   ],
   "source": [
    "dummy_clf = DummyClassifier(strategy=\"most_frequent\")\n",
    "dummy_clf.fit(X, y)\n",
    "DummyClassifier(strategy='most_frequent')\n",
    "dummy_clf.predict(X)\n",
    "print(\"the baseline accuracy is\",dummy_clf.score(X, y))\n"
   ]
  },
  {
   "cell_type": "markdown",
   "metadata": {
    "id": "D3bNu3Q47Jep"
   },
   "source": [
    "**Splitting the data**"
   ]
  },
  {
   "cell_type": "code",
   "execution_count": 20,
   "metadata": {
    "id": "u_W3nbIa8UGI"
   },
   "outputs": [],
   "source": [
    "from sklearn.model_selection import train_test_split\n",
    "seed = 1000\n",
    "test_size = 0.20\n",
    "X_train, X_test, y_train, y_test = train_test_split(X, y, test_size=test_size, random_state=seed)  #train & test data set "
   ]
  },
  {
   "cell_type": "markdown",
   "metadata": {
    "id": "7ys0AIXT7MNp"
   },
   "source": [
    "**Data Normalisation**"
   ]
  },
  {
   "cell_type": "code",
   "execution_count": 21,
   "metadata": {
    "id": "tJD8ULkUl7j_"
   },
   "outputs": [],
   "source": [
    "scaled = MinMaxScaler()\n",
    "X_train = scaled.fit_transform(X_train)\n",
    "X_test = scaled.transform(X_test)\n",
    "\n",
    "#mixmax scalar because non of the graph that has the bell curve \n",
    "\n"
   ]
  },
  {
   "cell_type": "code",
   "execution_count": 22,
   "metadata": {
    "colab": {
     "base_uri": "https://localhost:8080/",
     "height": 450
    },
    "id": "naTM4nmxsOxu",
    "outputId": "3382ae36-01cf-4d06-ceff-72c38d366eb4"
   },
   "outputs": [
    {
     "data": {
      "image/png": "[encoded data removed]",
      "text/plain": [
       "<Figure size 1440x360 with 1 Axes>"
      ]
     },
     "metadata": {},
     "output_type": "display_data"
    }
   ],
   "source": [
    "plt.figure(figsize= (20,5))\n",
    "plt.hist(X_train, density=True, alpha=0.6)\n",
    "  \n",
    "plt.show()"
   ]
  },
  {
   "cell_type": "code",
   "execution_count": 23,
   "metadata": {
    "colab": {
     "base_uri": "https://localhost:8080/",
     "height": 450
    },
    "id": "dxD-zOQXsRxG",
    "outputId": "0ff8ced0-e9ed-474b-ac74-12602d4c31ce"
   },
   "outputs": [
    {
     "data": {
      "image/png": "[encoded data removed]",
      "text/plain": [
       "<Figure size 1440x360 with 1 Axes>"
      ]
     },
     "metadata": {},
     "output_type": "display_data"
    }
   ],
   "source": [
    "plt.figure(figsize= (20,5))\n",
    "plt.hist(X_test, density=True, alpha=0.6)\n",
    "  \n",
    "plt.show()"
   ]
  },
  {
   "cell_type": "markdown",
   "metadata": {
    "id": "WTAh_Xvc7RlQ"
   },
   "source": [
    "**Model Creation**"
   ]
  },
  {
   "cell_type": "code",
   "execution_count": 24,
   "metadata": {
    "colab": {
     "base_uri": "https://localhost:8080/"
    },
    "id": "ocj9B6tE8eJq",
    "outputId": "9e316a31-50ac-4572-b8d3-d628da8c7289"
   },
   "outputs": [
    {
     "data": {
      "text/plain": [
       "XGBClassifier(base_score=None, booster=None, callbacks=None,\n",
       "              colsample_bylevel=None, colsample_bynode=None,\n",
       "              colsample_bytree=None, early_stopping_rounds=None,\n",
       "              enable_categorical=False, eval_metric=None, feature_types=None,\n",
       "              gamma=None, gpu_id=None, grow_policy=None, importance_type=None,\n",
       "              interaction_constraints=None, learning_rate=None, max_bin=None,\n",
       "              max_cat_threshold=None, max_cat_to_onehot=None,\n",
       "              max_delta_step=None, max_depth=None, max_leaves=None,\n",
       "              min_child_weight=None, missing=nan, monotone_constraints=None,\n",
       "              n_estimators=100, n_jobs=None, num_parallel_tree=None,\n",
       "              predictor=None, random_state=None, ...)"
      ]
     },
     "execution_count": 24,
     "metadata": {},
     "output_type": "execute_result"
    }
   ],
   "source": [
    "\n",
    "model = XGBClassifier()\n",
    "model.fit(X_train, y_train)     #XGB Classifier"
   ]
  },
  {
   "cell_type": "code",
   "execution_count": 25,
   "metadata": {
    "colab": {
     "base_uri": "https://localhost:8080/",
     "height": 506
    },
    "id": "YzZ08sTKPHBs",
    "outputId": "2888d1f1-3481-40d4-b4b3-fa39353697ba"
   },
   "outputs": [
    {
     "data": {
      "text/plain": [
       "<BarContainer object of 13 artists>"
      ]
     },
     "execution_count": 25,
     "metadata": {},
     "output_type": "execute_result"
    },
    {
     "data": {
      "image/png": "[encoded data removed]",
      "text/plain": [
       "<Figure size 432x288 with 1 Axes>"
      ]
     },
     "metadata": {},
     "output_type": "display_data"
    }
   ],
   "source": [
    "plt.barh(df.columns[:-1], model.feature_importances_)  #horizontal bar plot to visualize the important feature of a machine learning model\n"
   ]
  },
  {
   "cell_type": "code",
   "execution_count": 26,
   "metadata": {
    "colab": {
     "base_uri": "https://localhost:8080/"
    },
    "id": "Q0AxpHO9ckr3",
    "outputId": "d46f483f-a53d-4706-9e70-03addfa00318"
   },
   "outputs": [
    {
     "name": "stdout",
     "output_type": "stream",
     "text": [
      "Accuracy score for training data (XG) 0.952930967372481\n",
      "Accuracy score for testing data (XG):  0.9522335243790097\n",
      "Test Classification Report for model XG \n",
      "               precision    recall  f1-score   support\n",
      "\n",
      "           0       0.95      0.97      0.96    436984\n",
      "           1       0.95      0.93      0.94    288148\n",
      "\n",
      "    accuracy                           0.95    725132\n",
      "   macro avg       0.95      0.95      0.95    725132\n",
      "weighted avg       0.95      0.95      0.95    725132\n",
      "\n",
      "****************************************************************************************************\n"
     ]
    }
   ],
   "source": [
    "y_train_XG = model.predict(X_train)\n",
    "print('Accuracy score for training data (XG)', accuracy_score(y_train,y_train_XG))\n",
    "y_pred_XG = model.predict(X_test)\n",
    "XG_Score = accuracy_score(y_test, y_pred_XG)\n",
    "print(\"Accuracy score for testing data (XG): \", XG_Score)\n",
    "XG_model = confusion_matrix(y_test, y_pred_XG)\n",
    "print(\"Test Classification Report for model XG \\n\",classification_report(y_test, y_pred_XG))\n",
    "print('*'*100)"
   ]
  },
  {
   "cell_type": "code",
   "execution_count": 27,
   "metadata": {
    "colab": {
     "base_uri": "https://localhost:8080/",
     "height": 526
    },
    "id": "_EEy6eK5ns94",
    "outputId": "16889fd3-09be-4dba-b523-b734da671f02"
   },
   "outputs": [
    {
     "data": {
      "text/plain": [
       "Text(0.5, 1.0, 'XG Boosting')"
      ]
     },
     "execution_count": 27,
     "metadata": {},
     "output_type": "execute_result"
    },
    {
     "data": {
      "image/png": "[encoded data removed]",
      "text/plain": [
       "<Figure size 432x288 with 2 Axes>"
      ]
     },
     "metadata": {},
     "output_type": "display_data"
    }
   ],
   "source": [
    "sns.heatmap(pd.DataFrame(XG_model), annot = True,cmap=\"YlGnBu\" ,fmt='g').set_title('XG Boosting')  \n",
    "\n"
   ]
  },
  {
   "cell_type": "markdown",
   "metadata": {
    "id": "EjcqVncF5Yc7"
   },
   "source": [
    "**Removal of outliers**"
   ]
  },
  {
   "cell_type": "code",
   "execution_count": 28,
   "metadata": {
    "colab": {
     "base_uri": "https://localhost:8080/"
    },
    "id": "8G11iWya29AN",
    "outputId": "95226087-7d06-4a07-8501-beac5fe251fe"
   },
   "outputs": [
    {
     "name": "stdout",
     "output_type": "stream",
     "text": [
      "ProductKey         40369.000\n",
      "Supplier           42707.000\n",
      "HierarchyLevel1    38094.000\n",
      "HierarchyLevel2    47180.000\n",
      "DIorDOM                1.000\n",
      "Seasonal               0.000\n",
      "CatEdition             4.000\n",
      "SpringSummer           1.000\n",
      "WeeksOut              12.000\n",
      "Status                 1.000\n",
      "SalePriceIncVAT       54.000\n",
      "ForecastPerWeek      111.918\n",
      "ActualsPerWeek       100.278\n",
      "DiscontinuedTF         1.000\n",
      "dtype: float64\n"
     ]
    }
   ],
   "source": [
    "Q1 = df.quantile(0.25)\n",
    "Q3 = df.quantile(0.75)\n",
    "IQR = Q3 - Q1\n",
    "print(IQR)                             #removal of outliners"
   ]
  },
  {
   "cell_type": "code",
   "execution_count": 29,
   "metadata": {
    "colab": {
     "base_uri": "https://localhost:8080/"
    },
    "id": "KWM0Inp-2uzl",
    "outputId": "85742b91-19eb-45aa-feb0-6d7d0bb21335"
   },
   "outputs": [
    {
     "name": "stdout",
     "output_type": "stream",
     "text": [
      "Before: (3625659, 14), After: (2611039, 14)\n"
     ]
    }
   ],
   "source": [
    "df_out = df[~((df < (Q1 - 1.5 * IQR)) | (df > (Q3 + 1.5 * IQR))).any(axis=1)]  #shape of dataset before and after outliners\n",
    "print(f'Before: {df.shape}, After: {df_out.shape}')"
   ]
  },
  {
   "cell_type": "code",
   "execution_count": 30,
   "metadata": {
    "colab": {
     "base_uri": "https://localhost:8080/"
    },
    "id": "qX37Czkc3luq",
    "outputId": "5dc838f5-889c-4e45-d519-0a0786686a01"
   },
   "outputs": [
    {
     "data": {
      "text/plain": [
       "0    1540490\n",
       "1    1070549\n",
       "Name: DiscontinuedTF, dtype: int64"
      ]
     },
     "execution_count": 30,
     "metadata": {},
     "output_type": "execute_result"
    }
   ],
   "source": [
    "df_out['DiscontinuedTF'].value_counts() #count of discontinuedTF coloumn"
   ]
  },
  {
   "cell_type": "code",
   "execution_count": 31,
   "metadata": {
    "colab": {
     "base_uri": "https://localhost:8080/"
    },
    "id": "aMIhYOJ33Wuo",
    "outputId": "5118d163-279b-4b4f-e242-57193c6f3c8f"
   },
   "outputs": [
    {
     "data": {
      "text/plain": [
       "0    58.999119\n",
       "1    41.000881\n",
       "Name: DiscontinuedTF, dtype: float64"
      ]
     },
     "execution_count": 31,
     "metadata": {},
     "output_type": "execute_result"
    }
   ],
   "source": [
    "df_out['DiscontinuedTF'].value_counts()/len(df_out)*100  #caluculating the percentage of discountinuedTF"
   ]
  },
  {
   "cell_type": "code",
   "execution_count": 32,
   "metadata": {
    "colab": {
     "base_uri": "https://localhost:8080/"
    },
    "id": "bxHRQQLE31VW",
    "outputId": "09b197e3-3783-410e-c016-38b7f2602d0b"
   },
   "outputs": [
    {
     "data": {
      "text/plain": [
       "Index(['ProductKey', 'Supplier', 'HierarchyLevel1', 'HierarchyLevel2',\n",
       "       'DIorDOM', 'Seasonal', 'CatEdition', 'SpringSummer', 'WeeksOut',\n",
       "       'Status', 'SalePriceIncVAT', 'ForecastPerWeek', 'ActualsPerWeek',\n",
       "       'DiscontinuedTF'],\n",
       "      dtype='object')"
      ]
     },
     "execution_count": 32,
     "metadata": {},
     "output_type": "execute_result"
    }
   ],
   "source": [
    "df_out.columns"
   ]
  },
  {
   "cell_type": "markdown",
   "metadata": {
    "id": "CoEJUe965jpu"
   },
   "source": [
    "**Removed all the non important features**\n"
   ]
  },
  {
   "cell_type": "code",
   "execution_count": 33,
   "metadata": {
    "colab": {
     "base_uri": "https://localhost:8080/"
    },
    "id": "PKvt6ZAa4Wrp",
    "outputId": "8b1618e6-e8c9-40cd-ae9f-a1c4aaa3233e"
   },
   "outputs": [
    {
     "data": {
      "text/plain": [
       "(2611039, 7)"
      ]
     },
     "execution_count": 33,
     "metadata": {},
     "output_type": "execute_result"
    }
   ],
   "source": [
    "new_df = df_out[['HierarchyLevel2','CatEdition', 'WeeksOut','Status', 'ForecastPerWeek', 'ActualsPerWeek','DiscontinuedTF']]\n",
    "new_df.shape"
   ]
  },
  {
   "cell_type": "code",
   "execution_count": 34,
   "metadata": {},
   "outputs": [
    {
     "data": {
      "text/html": [
       "<div>\n",
       "<style scoped>\n",
       "    .dataframe tbody tr th:only-of-type {\n",
       "        vertical-align: middle;\n",
       "    }\n",
       "\n",
       "    .dataframe tbody tr th {\n",
       "        vertical-align: top;\n",
       "    }\n",
       "\n",
       "    .dataframe thead th {\n",
       "        text-align: right;\n",
       "    }\n",
       "</style>\n",
       "<table border=\"1\" class=\"dataframe\">\n",
       "  <thead>\n",
       "    <tr style=\"text-align: right;\">\n",
       "      <th></th>\n",
       "      <th>HierarchyLevel2</th>\n",
       "      <th>CatEdition</th>\n",
       "      <th>WeeksOut</th>\n",
       "      <th>Status</th>\n",
       "      <th>ForecastPerWeek</th>\n",
       "      <th>ActualsPerWeek</th>\n",
       "      <th>DiscontinuedTF</th>\n",
       "    </tr>\n",
       "  </thead>\n",
       "  <tbody>\n",
       "    <tr>\n",
       "      <th>0</th>\n",
       "      <td>28611</td>\n",
       "      <td>93</td>\n",
       "      <td>-18</td>\n",
       "      <td>0</td>\n",
       "      <td>1.277</td>\n",
       "      <td>0.000</td>\n",
       "      <td>1</td>\n",
       "    </tr>\n",
       "    <tr>\n",
       "      <th>1</th>\n",
       "      <td>28611</td>\n",
       "      <td>93</td>\n",
       "      <td>-17</td>\n",
       "      <td>0</td>\n",
       "      <td>1.470</td>\n",
       "      <td>0.000</td>\n",
       "      <td>1</td>\n",
       "    </tr>\n",
       "    <tr>\n",
       "      <th>2</th>\n",
       "      <td>28611</td>\n",
       "      <td>93</td>\n",
       "      <td>-16</td>\n",
       "      <td>0</td>\n",
       "      <td>1.562</td>\n",
       "      <td>0.000</td>\n",
       "      <td>1</td>\n",
       "    </tr>\n",
       "    <tr>\n",
       "      <th>3</th>\n",
       "      <td>28611</td>\n",
       "      <td>93</td>\n",
       "      <td>-15</td>\n",
       "      <td>0</td>\n",
       "      <td>1.666</td>\n",
       "      <td>0.000</td>\n",
       "      <td>1</td>\n",
       "    </tr>\n",
       "    <tr>\n",
       "      <th>4</th>\n",
       "      <td>28611</td>\n",
       "      <td>93</td>\n",
       "      <td>-14</td>\n",
       "      <td>0</td>\n",
       "      <td>1.785</td>\n",
       "      <td>0.000</td>\n",
       "      <td>1</td>\n",
       "    </tr>\n",
       "    <tr>\n",
       "      <th>...</th>\n",
       "      <td>...</td>\n",
       "      <td>...</td>\n",
       "      <td>...</td>\n",
       "      <td>...</td>\n",
       "      <td>...</td>\n",
       "      <td>...</td>\n",
       "      <td>...</td>\n",
       "    </tr>\n",
       "    <tr>\n",
       "      <th>3625654</th>\n",
       "      <td>6840</td>\n",
       "      <td>92</td>\n",
       "      <td>-5</td>\n",
       "      <td>0</td>\n",
       "      <td>80.200</td>\n",
       "      <td>80.850</td>\n",
       "      <td>1</td>\n",
       "    </tr>\n",
       "    <tr>\n",
       "      <th>3625655</th>\n",
       "      <td>6840</td>\n",
       "      <td>92</td>\n",
       "      <td>-4</td>\n",
       "      <td>0</td>\n",
       "      <td>74.750</td>\n",
       "      <td>78.619</td>\n",
       "      <td>1</td>\n",
       "    </tr>\n",
       "    <tr>\n",
       "      <th>3625656</th>\n",
       "      <td>6840</td>\n",
       "      <td>92</td>\n",
       "      <td>-3</td>\n",
       "      <td>0</td>\n",
       "      <td>70.333</td>\n",
       "      <td>76.590</td>\n",
       "      <td>1</td>\n",
       "    </tr>\n",
       "    <tr>\n",
       "      <th>3625657</th>\n",
       "      <td>6840</td>\n",
       "      <td>92</td>\n",
       "      <td>-2</td>\n",
       "      <td>0</td>\n",
       "      <td>70.000</td>\n",
       "      <td>75.391</td>\n",
       "      <td>1</td>\n",
       "    </tr>\n",
       "    <tr>\n",
       "      <th>3625658</th>\n",
       "      <td>6840</td>\n",
       "      <td>92</td>\n",
       "      <td>-1</td>\n",
       "      <td>0</td>\n",
       "      <td>69.000</td>\n",
       "      <td>73.708</td>\n",
       "      <td>1</td>\n",
       "    </tr>\n",
       "  </tbody>\n",
       "</table>\n",
       "<p>2611039 rows × 7 columns</p>\n",
       "</div>"
      ],
      "text/plain": [
       "         HierarchyLevel2  CatEdition  WeeksOut  Status  ForecastPerWeek  \\\n",
       "0                  28611          93       -18       0            1.277   \n",
       "1                  28611          93       -17       0            1.470   \n",
       "2                  28611          93       -16       0            1.562   \n",
       "3                  28611          93       -15       0            1.666   \n",
       "4                  28611          93       -14       0            1.785   \n",
       "...                  ...         ...       ...     ...              ...   \n",
       "3625654             6840          92        -5       0           80.200   \n",
       "3625655             6840          92        -4       0           74.750   \n",
       "3625656             6840          92        -3       0           70.333   \n",
       "3625657             6840          92        -2       0           70.000   \n",
       "3625658             6840          92        -1       0           69.000   \n",
       "\n",
       "         ActualsPerWeek  DiscontinuedTF  \n",
       "0                 0.000               1  \n",
       "1                 0.000               1  \n",
       "2                 0.000               1  \n",
       "3                 0.000               1  \n",
       "4                 0.000               1  \n",
       "...                 ...             ...  \n",
       "3625654          80.850               1  \n",
       "3625655          78.619               1  \n",
       "3625656          76.590               1  \n",
       "3625657          75.391               1  \n",
       "3625658          73.708               1  \n",
       "\n",
       "[2611039 rows x 7 columns]"
      ]
     },
     "execution_count": 34,
     "metadata": {},
     "output_type": "execute_result"
    }
   ],
   "source": [
    "new_df    #after removing non important features in dataset"
   ]
  },
  {
   "cell_type": "code",
   "execution_count": 35,
   "metadata": {
    "colab": {
     "base_uri": "https://localhost:8080/",
     "height": 524
    },
    "id": "Jfj-DjWQ52xL",
    "outputId": "36e0c59d-b6ca-4faa-b673-9eb68f94ed4f"
   },
   "outputs": [
    {
     "name": "stdout",
     "output_type": "stream",
     "text": [
      "Accuracy score for training data (XG) 0.9475022153539467\n",
      "Accuracy score for testing data (XG):  0.9476262332250751\n",
      "Test Classification Report for model XG \n",
      "               precision    recall  f1-score   support\n",
      "\n",
      "           0       0.95      0.97      0.96    307655\n",
      "           1       0.95      0.92      0.94    214553\n",
      "\n",
      "    accuracy                           0.95    522208\n",
      "   macro avg       0.95      0.94      0.95    522208\n",
      "weighted avg       0.95      0.95      0.95    522208\n",
      "\n",
      "****************************************************************************************************\n"
     ]
    },
    {
     "data": {
      "text/plain": [
       "Text(0.5, 1.0, 'XG Boosting')"
      ]
     },
     "execution_count": 35,
     "metadata": {},
     "output_type": "execute_result"
    },
    {
     "data": {
      "image/png": "[encoded data removed]",
      "text/plain": [
       "<Figure size 432x288 with 2 Axes>"
      ]
     },
     "metadata": {},
     "output_type": "display_data"
    }
   ],
   "source": [
    "X = new_df[new_df.columns[:-1]].values\n",
    "y = new_df['DiscontinuedTF'].values\n",
    "\n",
    "seed = 1000\n",
    "test_size = 0.20\n",
    "X_train, X_test, y_train, y_test = train_test_split(X, y, test_size=test_size, random_state=seed)\n",
    "\n",
    "scaled = MinMaxScaler()\n",
    "X_train = scaled.fit_transform(X_train)\n",
    "X_test = scaled.transform(X_test)\n",
    "\n",
    "\n",
    "model = XGBClassifier()\n",
    "model.fit(X_train, y_train)\n",
    "\n",
    "\n",
    "y_train_XG = model.predict(X_train)\n",
    "print('Accuracy score for training data (XG)', accuracy_score(y_train,y_train_XG))\n",
    "y_pred_XG = model.predict(X_test)\n",
    "XG_Score = accuracy_score(y_test, y_pred_XG)\n",
    "print(\"Accuracy score for testing data (XG): \", XG_Score)\n",
    "XG_model = confusion_matrix(y_test, y_pred_XG)\n",
    "print(\"Test Classification Report for model XG \\n\",classification_report(y_test, y_pred_XG))\n",
    "print('*'*100)\n",
    "\n",
    "sns.heatmap(pd.DataFrame(XG_model), annot = True,cmap=\"YlGnBu\" ,fmt='g').set_title('XG Boosting')\n",
    "\n"
   ]
  },
  {
   "cell_type": "markdown",
   "metadata": {
    "id": "6o-Nk7ns7dDS"
   },
   "source": [
    "Accuracy score for training data before removal of outliers (XG) 0.9233542732062139\n",
    "\n",
    "\n",
    "Accuracy score for testing data before removal of outliers (XG) 0.9234884131440896\n",
    "\n",
    "Accuracy score for training data after removal of outliers(XG) 0.9257029410229932\n",
    "\n",
    "Accuracy score for testing data after removal of outliers(XG):  0.9266843862981801 "
   ]
  },
  {
   "cell_type": "code",
   "execution_count": 36,
   "metadata": {
    "colab": {
     "base_uri": "https://localhost:8080/"
    },
    "id": "Z0bZYn4o8gC0",
    "outputId": "3869d7b9-3051-47bb-f344-14db75b6ec37"
   },
   "outputs": [
    {
     "data": {
      "text/plain": [
       "0    58.84\n",
       "1    41.16\n",
       "Name: DiscontinuedTF, dtype: float64"
      ]
     },
     "execution_count": 36,
     "metadata": {},
     "output_type": "execute_result"
    }
   ],
   "source": [
    "df = new_df.sample(n = 5000)\n",
    "df['DiscontinuedTF'].value_counts()/len(df)*100"
   ]
  },
  {
   "cell_type": "code",
   "execution_count": 37,
   "metadata": {
    "id": "c8WRcJT88rnb"
   },
   "outputs": [],
   "source": [
    "X = df[df.columns[:-1]].values\n",
    "y = df['DiscontinuedTF'].values\n",
    "\n",
    "seed = 1000\n",
    "test_size = 0.20\n",
    "X_train, X_test, y_train, y_test = train_test_split(X, y, test_size=test_size, random_state=seed)\n",
    "\n",
    "scaled = MinMaxScaler()\n",
    "X_train = scaled.fit_transform(X_train)\n",
    "X_test = scaled.transform(X_test)"
   ]
  },
  {
   "cell_type": "code",
   "execution_count": 38,
   "metadata": {
    "colab": {
     "base_uri": "https://localhost:8080/",
     "height": 621
    },
    "id": "3LVTUi2IyVlw",
    "outputId": "40bbd4d1-0c49-47aa-98bd-0453260998f8"
   },
   "outputs": [
    {
     "data": {
      "image/png": "[encoded data removed]",
      "text/plain": [
       "<Figure size 1080x720 with 1 Axes>"
      ]
     },
     "metadata": {},
     "output_type": "display_data"
    }
   ],
   "source": [
    "error_rate = []\n",
    "\n",
    "for i in range(1,5):\n",
    "    knn = KNeighborsClassifier(n_neighbors=i)\n",
    "    knn.fit(X_train, y_train)\n",
    "    pred = knn.predict(X_test)\n",
    "    error_rate.append(np.mean(pred != y_test))\n",
    "\n",
    "plt.figure(figsize=(15,10))\n",
    "plt.plot(range(1,5),error_rate,'bx-')\n",
    "plt.xlabel('k')\n",
    "plt.ylabel('Sum_of_squared_distances')\n",
    "plt.title('Elbow Method For Optimal k')\n",
    "plt.show()"
   ]
  },
  {
   "cell_type": "code",
   "execution_count": 39,
   "metadata": {
    "id": "F2eOgQjxetrJ"
   },
   "outputs": [],
   "source": [
    "def Voting_classifier(X_train,X_test,y_train,y_test):\n",
    "   \n",
    "    \n",
    "    knn_model = KNeighborsClassifier(n_neighbors=3)\n",
    "    knn_model.fit(X_train, y_train)\n",
    "    y_train_knn = knn_model.predict(X_train)\n",
    "    print('Accuracy score for training data (KNN)', accuracy_score(y_train,y_train_knn))\n",
    "    y_pred_knn = knn_model.predict(X_test)\n",
    "    knn_score = accuracy_score(y_test, y_pred_knn)\n",
    "    print(\"Accuracy score for testing data (KNN): \", knn_score)\n",
    "    knn_Cm = confusion_matrix(y_test, y_pred_knn)\n",
    "    print(\"Test Classification Report for model KNN \\n\",classification_report(y_test, y_pred_knn))\n",
    "    print('*'*100)\n",
    "    \n",
    "    log_model = LogisticRegression()\n",
    "    log_model.fit(X_train, y_train)\n",
    "    y_train_log = log_model.predict(X_train)\n",
    "    print('Accuracy score for training data (log)', accuracy_score(y_train,y_train_log))\n",
    "    y_pred_log = log_model.predict(X_test)\n",
    "    log_score = accuracy_score(y_test, y_pred_log)\n",
    "    print(\"Accuracy score for testing data (log): \", log_score)\n",
    "    LR_CM= confusion_matrix(y_test, y_pred_log)\n",
    "    print(\"Test Classification Report for model LG \\n\",classification_report(y_test, y_pred_log))\n",
    "    print('*'*100)\n",
    "\n",
    "    rf_model= RandomForestClassifier(max_depth=2, random_state=0)\n",
    "    rf_model.fit(X_train, y_train)\n",
    "    y_train_rf = rf_model.predict(X_train)\n",
    "    print('Accuracy score for training data (rff)', accuracy_score(y_train,y_train_rf))\n",
    "    y_pred_rf = rf_model.predict(X_test)\n",
    "    rf_score = accuracy_score(y_test, y_pred_rf)\n",
    "    print(\"Accuracy score for testing data (Randon Forest): \", rf_score)\n",
    "    RF_CM =confusion_matrix(y_test, y_pred_rf)\n",
    "    print(\"Test Classification Report for model RF \\n\",classification_report(y_test, y_pred_rf))\n",
    "    print('*'*100)\n",
    "    \n",
    "    svm_model = svm.SVC(kernel='linear',probability = True)\n",
    "    svm_model.fit(X_train, y_train)\n",
    "    y_train_svm = svm_model.predict(X_train)\n",
    "    print('Accuracy score for training data (SVM)', accuracy_score(y_train,y_train_svm))\n",
    "    y_pred_svm = svm_model.predict(X_test)\n",
    "    svm_score = accuracy_score(y_test, y_pred_svm)\n",
    "    print(\"Accuracy score testing data (SVM): \", svm_score)\n",
    "    SVM_CM = confusion_matrix(y_test, y_pred_svm)\n",
    "    print(\"Test Classification Report for model SVM \\n\",classification_report(y_test, y_pred_svm))\n",
    "    print('*'*100)\n",
    "\n",
    "    #create a dictionary of the models\n",
    "    estimators=[('knn', knn_model), ('rf', log_model), ('log_reg', rf_model),('svm',svm_model)]\n",
    "    #create the voting classifier, inputting the models\n",
    "    ensemble = VotingClassifier(estimators, voting='soft')\n",
    "    #fit model to training data\n",
    "    ensemble.fit(X_train, y_train)\n",
    "    #test the model on the test data\n",
    "\n",
    "    Voting_prediction = ensemble.predict(X_test)\n",
    "    y_train_voting = ensemble.predict(X_train)\n",
    "    print('Accuracy score for training data (Voting_model) without Grid search', accuracy_score(y_train,y_train_voting))\n",
    "    Voting_final = accuracy_score(y_test, Voting_prediction)\n",
    "    print(\"Accuracy score for testing data (Voting_model) without Grid search: \", Voting_final)   \n",
    "    Voting_accuracy_matrix = confusion_matrix(y_test, Voting_prediction)\n",
    "    sns.heatmap(pd.DataFrame(Voting_accuracy_matrix), annot = True,cmap=\"YlGnBu\" ,fmt='g').set_title('Voting_Classifier')\n",
    "    print(\"Test Classification Report for model Voting \\n\",classification_report(y_test, Voting_prediction)) \n",
    "    plot_roc_curve(ensemble, X_test, y_test)\n",
    "\n",
    "\n"
   ]
  },
  {
   "cell_type": "code",
   "execution_count": 40,
   "metadata": {
    "colab": {
     "base_uri": "https://localhost:8080/",
     "height": 1000
    },
    "id": "mCu9l2MLev98",
    "outputId": "39174d5e-4cb6-426e-b726-68b259cf05a1"
   },
   "outputs": [
    {
     "name": "stdout",
     "output_type": "stream",
     "text": [
      "Accuracy score for training data (KNN) 0.9345\n",
      "Accuracy score for testing data (KNN):  0.892\n",
      "Test Classification Report for model KNN \n",
      "               precision    recall  f1-score   support\n",
      "\n",
      "           0       0.89      0.93      0.91       582\n",
      "           1       0.90      0.83      0.87       418\n",
      "\n",
      "    accuracy                           0.89      1000\n",
      "   macro avg       0.89      0.88      0.89      1000\n",
      "weighted avg       0.89      0.89      0.89      1000\n",
      "\n",
      "****************************************************************************************************\n",
      "Accuracy score for training data (log) 0.8325\n",
      "Accuracy score for testing data (log):  0.843\n",
      "Test Classification Report for model LG \n",
      "               precision    recall  f1-score   support\n",
      "\n",
      "           0       0.84      0.91      0.87       582\n",
      "           1       0.85      0.75      0.80       418\n",
      "\n",
      "    accuracy                           0.84      1000\n",
      "   macro avg       0.85      0.83      0.84      1000\n",
      "weighted avg       0.84      0.84      0.84      1000\n",
      "\n",
      "****************************************************************************************************\n",
      "Accuracy score for training data (rff) 0.891\n",
      "Accuracy score for testing data (Randon Forest):  0.899\n",
      "Test Classification Report for model RF \n",
      "               precision    recall  f1-score   support\n",
      "\n",
      "           0       0.92      0.91      0.91       582\n",
      "           1       0.87      0.89      0.88       418\n",
      "\n",
      "    accuracy                           0.90      1000\n",
      "   macro avg       0.90      0.90      0.90      1000\n",
      "weighted avg       0.90      0.90      0.90      1000\n",
      "\n",
      "****************************************************************************************************\n",
      "Accuracy score for training data (SVM) 0.837\n",
      "Accuracy score testing data (SVM):  0.846\n",
      "Test Classification Report for model SVM \n",
      "               precision    recall  f1-score   support\n",
      "\n",
      "           0       0.84      0.91      0.87       582\n",
      "           1       0.85      0.76      0.81       418\n",
      "\n",
      "    accuracy                           0.85      1000\n",
      "   macro avg       0.85      0.83      0.84      1000\n",
      "weighted avg       0.85      0.85      0.84      1000\n",
      "\n",
      "****************************************************************************************************\n",
      "Accuracy score for training data (Voting_model) without Grid search 0.88375\n",
      "Accuracy score for testing data (Voting_model) without Grid search:  0.888\n",
      "Test Classification Report for model Voting \n",
      "               precision    recall  f1-score   support\n",
      "\n",
      "           0       0.90      0.91      0.90       582\n",
      "           1       0.87      0.86      0.87       418\n",
      "\n",
      "    accuracy                           0.89      1000\n",
      "   macro avg       0.89      0.88      0.88      1000\n",
      "weighted avg       0.89      0.89      0.89      1000\n",
      "\n"
     ]
    },
    {
     "data": {
      "image/png": "[encoded data removed]",
      "text/plain": [
       "<Figure size 432x288 with 2 Axes>"
      ]
     },
     "metadata": {},
     "output_type": "display_data"
    },
    {
     "data": {
      "image/png": "[encoded data removed]",
      "text/plain": [
       "<Figure size 432x288 with 1 Axes>"
      ]
     },
     "metadata": {},
     "output_type": "display_data"
    }
   ],
   "source": [
    "Voting_classifier(X_train,X_test,y_train,y_test)"
   ]
  },
  {
   "cell_type": "code",
   "execution_count": 41,
   "metadata": {
    "id": "sJbzrpLiffyW"
   },
   "outputs": [],
   "source": [
    "def Grid_voting_classifier(X_train,X_test,y_train,y_test):\n",
    "    \n",
    "    global GridSearchCV\n",
    "    \n",
    "    knn = KNeighborsClassifier()#create a dictionary of all values we want to test for n_neighbors\n",
    "    params_knn = {'n_neighbors': np.arange(1, 5)}#use gridsearch to test all values for n_neighbors\n",
    "    knn_gs = GridSearchCV(knn, params_knn, cv=5)#fit model to training data\n",
    "    knn_gs.fit(X_train, y_train)\n",
    "\n",
    "    knn_best = knn_gs.best_estimator_\n",
    "\n",
    "    print('Best k value for',knn_gs.best_params_)\n",
    "    \n",
    "    rf = RandomForestClassifier()\n",
    "    #create a dictionary of all values we want to test for n_estimators\n",
    "    params_rf = {'n_estimators': [50, 100,200,250,300,350,400]}\n",
    "    #use gridsearch to test all values for n_estimators\n",
    "    rf_gs = GridSearchCV(rf, params_rf, cv=5)#fit model to training data\n",
    "    rf_gs.fit(X_train, y_train)\n",
    "\n",
    "    #save best model\n",
    "    rf_best = rf_gs.best_estimator_\n",
    "    #check best n_estimators value\n",
    "    print(rf_gs.best_params_)\n",
    "    \n",
    "    from sklearn.model_selection import GridSearchCV\n",
    "    log_reg = LogisticRegression()\n",
    "    grid_values = {'C':[0.001,.009,0.01,.09,1,5,10,25,50,70]}\n",
    "    log_reg = GridSearchCV(log_reg, param_grid = grid_values,scoring = 'recall')\n",
    "    log_reg.fit(X_train, y_train)\n",
    "\n",
    "    print('Best Estimators: %s' % log_reg.best_estimator_)\n",
    "    print('Best Score: %s' % log_reg.best_score_)\n",
    "\n",
    "    best_log_reg = log_reg.best_estimator_\n",
    "    \n",
    "    param_grid = {'C': [0.1,1, 10], 'gamma': [1,0.1,0.01],'kernel': ['rbf', 'poly', 'sigmoid']}\n",
    "    svm_grid = GridSearchCV(SVC(probability=True),param_grid,refit=True,verbose=2)\n",
    "    svm_grid.fit(X_train,y_train)\n",
    "    \n",
    "    import pickle\n",
    "    pickle.dump(svm_grid, open('svm_grid_model.pkl','wb'))\n",
    "    print(\"dumping complete\")\n",
    "    \n",
    "    print(svm_grid.best_estimator_)\n",
    "    svm_grid= svm_grid.best_estimator_\n",
    "  \n",
    "\n",
    "    estimators=[('knn', knn_best), ('rf', rf_best), ('log_reg', best_log_reg),('svm',svm_grid)]\n",
    "    #create our voting classifier, inputting our models\n",
    "    ensemble = VotingClassifier(estimators, voting='soft')\n",
    "    #fit model to training data\n",
    "    ensemble.fit(X_train, y_train)\n",
    "    #test our model on the test data\n",
    "\n",
    "    Voting_prediction = ensemble.predict(X_test)\n",
    "\n",
    "    Voting_final = accuracy_score(y_test, Voting_prediction)\n",
    "    print(\"Accuracy score after grid search(Voting_model): \", Voting_final)\n",
    "    \n",
    "    Voting_accuracy_matrix = confusion_matrix(y_test, Voting_prediction)\n",
    "    Voting_accuracy_matrix\n",
    "    \n",
    "    sns.heatmap(pd.DataFrame(Voting_accuracy_matrix), annot = True,cmap=\"YlGnBu\" ,fmt='g').set_title('Voting_Classifier')\n",
    "    plot_roc_curve(ensemble, X_test, y_test)"
   ]
  },
  {
   "cell_type": "code",
   "execution_count": 42,
   "metadata": {
    "colab": {
     "base_uri": "https://localhost:8080/",
     "height": 1000
    },
    "id": "b_FFnQu8fidy",
    "outputId": "101a24dd-3882-4b53-d2f4-35a0039cfbe6"
   },
   "outputs": [
    {
     "name": "stdout",
     "output_type": "stream",
     "text": [
      "Best k value for {'n_neighbors': 4}\n",
      "{'n_estimators': 100}\n",
      "Best Estimators: LogisticRegression(C=0.01)\n",
      "Best Score: 0.75\n",
      "Fitting 5 folds for each of 27 candidates, totalling 135 fits\n",
      "[CV] END .........................C=0.1, gamma=1, kernel=rbf; total time=   3.5s\n",
      "[CV] END .........................C=0.1, gamma=1, kernel=rbf; total time=   3.5s\n",
      "[CV] END .........................C=0.1, gamma=1, kernel=rbf; total time=   3.4s\n",
      "[CV] END .........................C=0.1, gamma=1, kernel=rbf; total time=   3.5s\n",
      "[CV] END .........................C=0.1, gamma=1, kernel=rbf; total time=   3.3s\n",
      "[CV] END ........................C=0.1, gamma=1, kernel=poly; total time=   1.9s\n",
      "[CV] END ........................C=0.1, gamma=1, kernel=poly; total time=   2.0s\n",
      "[CV] END ........................C=0.1, gamma=1, kernel=poly; total time=   2.0s\n",
      "[CV] END ........................C=0.1, gamma=1, kernel=poly; total time=   2.0s\n",
      "[CV] END ........................C=0.1, gamma=1, kernel=poly; total time=   1.9s\n",
      "[CV] END .....................C=0.1, gamma=1, kernel=sigmoid; total time=   4.9s\n",
      "[CV] END .....................C=0.1, gamma=1, kernel=sigmoid; total time=   5.6s\n",
      "[CV] END .....................C=0.1, gamma=1, kernel=sigmoid; total time=   5.4s\n",
      "[CV] END .....................C=0.1, gamma=1, kernel=sigmoid; total time=   5.1s\n",
      "[CV] END .....................C=0.1, gamma=1, kernel=sigmoid; total time=   5.3s\n",
      "[CV] END .......................C=0.1, gamma=0.1, kernel=rbf; total time=   4.4s\n",
      "[CV] END .......................C=0.1, gamma=0.1, kernel=rbf; total time=   4.4s\n",
      "[CV] END .......................C=0.1, gamma=0.1, kernel=rbf; total time=   4.2s\n",
      "[CV] END .......................C=0.1, gamma=0.1, kernel=rbf; total time=   4.3s\n",
      "[CV] END .......................C=0.1, gamma=0.1, kernel=rbf; total time=   4.2s\n",
      "[CV] END ......................C=0.1, gamma=0.1, kernel=poly; total time=   4.7s\n",
      "[CV] END ......................C=0.1, gamma=0.1, kernel=poly; total time=   4.5s\n",
      "[CV] END ......................C=0.1, gamma=0.1, kernel=poly; total time=   4.5s\n",
      "[CV] END ......................C=0.1, gamma=0.1, kernel=poly; total time=   4.5s\n",
      "[CV] END ......................C=0.1, gamma=0.1, kernel=poly; total time=   4.6s\n",
      "[CV] END ...................C=0.1, gamma=0.1, kernel=sigmoid; total time=   4.0s\n",
      "[CV] END ...................C=0.1, gamma=0.1, kernel=sigmoid; total time=   4.1s\n",
      "[CV] END ...................C=0.1, gamma=0.1, kernel=sigmoid; total time=   4.2s\n",
      "[CV] END ...................C=0.1, gamma=0.1, kernel=sigmoid; total time=   4.4s\n",
      "[CV] END ...................C=0.1, gamma=0.1, kernel=sigmoid; total time=   4.6s\n",
      "[CV] END ......................C=0.1, gamma=0.01, kernel=rbf; total time=   7.9s\n",
      "[CV] END ......................C=0.1, gamma=0.01, kernel=rbf; total time=   8.8s\n",
      "[CV] END ......................C=0.1, gamma=0.01, kernel=rbf; total time=   8.4s\n",
      "[CV] END ......................C=0.1, gamma=0.01, kernel=rbf; total time=   8.1s\n",
      "[CV] END ......................C=0.1, gamma=0.01, kernel=rbf; total time=   8.4s\n",
      "[CV] END .....................C=0.1, gamma=0.01, kernel=poly; total time=   4.5s\n",
      "[CV] END .....................C=0.1, gamma=0.01, kernel=poly; total time=   4.9s\n",
      "[CV] END .....................C=0.1, gamma=0.01, kernel=poly; total time=   4.7s\n",
      "[CV] END .....................C=0.1, gamma=0.01, kernel=poly; total time=   4.7s\n",
      "[CV] END .....................C=0.1, gamma=0.01, kernel=poly; total time=   5.1s\n",
      "[CV] END ..................C=0.1, gamma=0.01, kernel=sigmoid; total time=   6.3s\n",
      "[CV] END ..................C=0.1, gamma=0.01, kernel=sigmoid; total time=   6.1s\n",
      "[CV] END ..................C=0.1, gamma=0.01, kernel=sigmoid; total time=   6.0s\n",
      "[CV] END ..................C=0.1, gamma=0.01, kernel=sigmoid; total time=   6.1s\n",
      "[CV] END ..................C=0.1, gamma=0.01, kernel=sigmoid; total time=   5.8s\n",
      "[CV] END ...........................C=1, gamma=1, kernel=rbf; total time=   3.0s\n",
      "[CV] END ...........................C=1, gamma=1, kernel=rbf; total time=   3.3s\n",
      "[CV] END ...........................C=1, gamma=1, kernel=rbf; total time=   3.3s\n",
      "[CV] END ...........................C=1, gamma=1, kernel=rbf; total time=   2.9s\n",
      "[CV] END ...........................C=1, gamma=1, kernel=rbf; total time=   3.2s\n",
      "[CV] END ..........................C=1, gamma=1, kernel=poly; total time=   2.9s\n",
      "[CV] END ..........................C=1, gamma=1, kernel=poly; total time=   2.9s\n",
      "[CV] END ..........................C=1, gamma=1, kernel=poly; total time=   3.1s\n",
      "[CV] END ..........................C=1, gamma=1, kernel=poly; total time=   2.8s\n",
      "[CV] END ..........................C=1, gamma=1, kernel=poly; total time=   2.6s\n",
      "[CV] END .......................C=1, gamma=1, kernel=sigmoid; total time=   4.9s\n",
      "[CV] END .......................C=1, gamma=1, kernel=sigmoid; total time=   4.4s\n",
      "[CV] END .......................C=1, gamma=1, kernel=sigmoid; total time=   4.7s\n",
      "[CV] END .......................C=1, gamma=1, kernel=sigmoid; total time=   5.8s\n",
      "[CV] END .......................C=1, gamma=1, kernel=sigmoid; total time=   4.5s\n",
      "[CV] END .........................C=1, gamma=0.1, kernel=rbf; total time=   3.5s\n",
      "[CV] END .........................C=1, gamma=0.1, kernel=rbf; total time=   3.5s\n",
      "[CV] END .........................C=1, gamma=0.1, kernel=rbf; total time=   3.4s\n",
      "[CV] END .........................C=1, gamma=0.1, kernel=rbf; total time=   3.4s\n",
      "[CV] END .........................C=1, gamma=0.1, kernel=rbf; total time=   3.4s\n",
      "[CV] END ........................C=1, gamma=0.1, kernel=poly; total time=   3.7s\n",
      "[CV] END ........................C=1, gamma=0.1, kernel=poly; total time=   3.8s\n",
      "[CV] END ........................C=1, gamma=0.1, kernel=poly; total time=   3.8s\n",
      "[CV] END ........................C=1, gamma=0.1, kernel=poly; total time=   3.7s\n",
      "[CV] END ........................C=1, gamma=0.1, kernel=poly; total time=   3.7s\n",
      "[CV] END .....................C=1, gamma=0.1, kernel=sigmoid; total time=   3.5s\n",
      "[CV] END .....................C=1, gamma=0.1, kernel=sigmoid; total time=   3.9s\n",
      "[CV] END .....................C=1, gamma=0.1, kernel=sigmoid; total time=   3.2s\n",
      "[CV] END .....................C=1, gamma=0.1, kernel=sigmoid; total time=   3.3s\n",
      "[CV] END .....................C=1, gamma=0.1, kernel=sigmoid; total time=   3.3s\n",
      "[CV] END ........................C=1, gamma=0.01, kernel=rbf; total time=   4.5s\n",
      "[CV] END ........................C=1, gamma=0.01, kernel=rbf; total time=   4.5s\n",
      "[CV] END ........................C=1, gamma=0.01, kernel=rbf; total time=   1.9s\n",
      "[CV] END ........................C=1, gamma=0.01, kernel=rbf; total time=   1.9s\n",
      "[CV] END ........................C=1, gamma=0.01, kernel=rbf; total time=   1.8s\n",
      "[CV] END .......................C=1, gamma=0.01, kernel=poly; total time=   2.6s\n",
      "[CV] END .......................C=1, gamma=0.01, kernel=poly; total time=   4.6s\n",
      "[CV] END .......................C=1, gamma=0.01, kernel=poly; total time=   4.7s\n",
      "[CV] END .......................C=1, gamma=0.01, kernel=poly; total time=   4.4s\n",
      "[CV] END .......................C=1, gamma=0.01, kernel=poly; total time=   4.4s\n",
      "[CV] END ....................C=1, gamma=0.01, kernel=sigmoid; total time=   2.9s\n",
      "[CV] END ....................C=1, gamma=0.01, kernel=sigmoid; total time=   3.1s\n",
      "[CV] END ....................C=1, gamma=0.01, kernel=sigmoid; total time=   3.0s\n",
      "[CV] END ....................C=1, gamma=0.01, kernel=sigmoid; total time=   3.0s\n",
      "[CV] END ....................C=1, gamma=0.01, kernel=sigmoid; total time=   3.0s\n",
      "[CV] END ..........................C=10, gamma=1, kernel=rbf; total time=   3.5s\n",
      "[CV] END ..........................C=10, gamma=1, kernel=rbf; total time=   3.3s\n",
      "[CV] END ..........................C=10, gamma=1, kernel=rbf; total time=   3.0s\n",
      "[CV] END ..........................C=10, gamma=1, kernel=rbf; total time=   3.3s\n",
      "[CV] END ..........................C=10, gamma=1, kernel=rbf; total time=   3.0s\n",
      "[CV] END .........................C=10, gamma=1, kernel=poly; total time=   5.8s\n",
      "[CV] END .........................C=10, gamma=1, kernel=poly; total time=   5.7s\n",
      "[CV] END .........................C=10, gamma=1, kernel=poly; total time=   6.0s\n",
      "[CV] END .........................C=10, gamma=1, kernel=poly; total time=   5.5s\n",
      "[CV] END .........................C=10, gamma=1, kernel=poly; total time=   5.0s\n",
      "[CV] END ......................C=10, gamma=1, kernel=sigmoid; total time=   4.3s\n",
      "[CV] END ......................C=10, gamma=1, kernel=sigmoid; total time=   4.1s\n",
      "[CV] END ......................C=10, gamma=1, kernel=sigmoid; total time=   4.3s\n",
      "[CV] END ......................C=10, gamma=1, kernel=sigmoid; total time=   5.2s\n",
      "[CV] END ......................C=10, gamma=1, kernel=sigmoid; total time=   5.0s\n",
      "[CV] END ........................C=10, gamma=0.1, kernel=rbf; total time=   3.7s\n",
      "[CV] END ........................C=10, gamma=0.1, kernel=rbf; total time=   3.3s\n",
      "[CV] END ........................C=10, gamma=0.1, kernel=rbf; total time=   3.2s\n",
      "[CV] END ........................C=10, gamma=0.1, kernel=rbf; total time=   3.2s\n",
      "[CV] END ........................C=10, gamma=0.1, kernel=rbf; total time=   3.1s\n",
      "[CV] END .......................C=10, gamma=0.1, kernel=poly; total time=   2.3s\n",
      "[CV] END .......................C=10, gamma=0.1, kernel=poly; total time=   2.3s\n",
      "[CV] END .......................C=10, gamma=0.1, kernel=poly; total time=   2.3s\n",
      "[CV] END .......................C=10, gamma=0.1, kernel=poly; total time=   2.2s\n",
      "[CV] END .......................C=10, gamma=0.1, kernel=poly; total time=   2.2s\n",
      "[CV] END ....................C=10, gamma=0.1, kernel=sigmoid; total time=   3.2s\n",
      "[CV] END ....................C=10, gamma=0.1, kernel=sigmoid; total time=   3.3s\n",
      "[CV] END ....................C=10, gamma=0.1, kernel=sigmoid; total time=   3.2s\n",
      "[CV] END ....................C=10, gamma=0.1, kernel=sigmoid; total time=   3.2s\n",
      "[CV] END ....................C=10, gamma=0.1, kernel=sigmoid; total time=   3.2s\n",
      "[CV] END .......................C=10, gamma=0.01, kernel=rbf; total time=   4.3s\n",
      "[CV] END .......................C=10, gamma=0.01, kernel=rbf; total time=   4.2s\n",
      "[CV] END .......................C=10, gamma=0.01, kernel=rbf; total time=   4.0s\n",
      "[CV] END .......................C=10, gamma=0.01, kernel=rbf; total time=   4.0s\n",
      "[CV] END .......................C=10, gamma=0.01, kernel=rbf; total time=   4.3s\n",
      "[CV] END ......................C=10, gamma=0.01, kernel=poly; total time=   4.4s\n",
      "[CV] END ......................C=10, gamma=0.01, kernel=poly; total time=   4.7s\n",
      "[CV] END ......................C=10, gamma=0.01, kernel=poly; total time=   4.4s\n",
      "[CV] END ......................C=10, gamma=0.01, kernel=poly; total time=   4.4s\n",
      "[CV] END ......................C=10, gamma=0.01, kernel=poly; total time=   4.4s\n",
      "[CV] END ...................C=10, gamma=0.01, kernel=sigmoid; total time=   5.6s\n",
      "[CV] END ...................C=10, gamma=0.01, kernel=sigmoid; total time=   4.4s\n",
      "[CV] END ...................C=10, gamma=0.01, kernel=sigmoid; total time=   6.2s\n",
      "[CV] END ...................C=10, gamma=0.01, kernel=sigmoid; total time=   5.6s\n",
      "[CV] END ...................C=10, gamma=0.01, kernel=sigmoid; total time=   3.0s\n",
      "dumping complete\n",
      "SVC(C=10, gamma=1, probability=True)\n",
      "Accuracy score after grid search(Voting_model):  0.906\n"
     ]
    },
    {
     "data": {
      "image/png": "[encoded data removed]",
      "text/plain": [
       "<Figure size 432x288 with 2 Axes>"
      ]
     },
     "metadata": {},
     "output_type": "display_data"
    },
    {
     "data": {
      "image/png": "[encoded data removed]",
      "text/plain": [
       "<Figure size 432x288 with 1 Axes>"
      ]
     },
     "metadata": {},
     "output_type": "display_data"
    }
   ],
   "source": [
    "Grid_voting_classifier(X_train,X_test,y_train,y_test)"
   ]
  },
  {
   "cell_type": "code",
   "execution_count": null,
   "metadata": {
    "id": "rE2C97O7BWUM"
   },
   "outputs": [],
   "source": []
  }
 ],
 "metadata": {
  "colab": {
   "provenance": []
  },
  "kernelspec": {
   "display_name": "Python 3",
   "language": "python",
   "name": "python3"
  },
  "language_info": {
   "codemirror_mode": {
    "name": "ipython",
    "version": 3
   },
   "file_extension": ".py",
   "mimetype": "text/x-python",
   "name": "python",
   "nbconvert_exporter": "python",
   "pygments_lexer": "ipython3",
   "version": "3.8.8"
  },
  "widgets": {
   "application/vnd.jupyter.widget-state+json": {
    "04f57022f9164c6eb5a7449784b436c9": {
     "model_module": "@jupyter-widgets/base",
     "model_module_version": "1.2.0",
     "model_name": "LayoutModel",
     "state": {
      "_model_module": "@jupyter-widgets/base",
      "_model_module_version": "1.2.0",
      "_model_name": "LayoutModel",
      "_view_count": null,
      "_view_module": "@jupyter-widgets/base",
      "_view_module_version": "1.2.0",
      "_view_name": "LayoutView",
      "align_content": null,
      "align_items": null,
      "align_self": null,
      "border": null,
      "bottom": null,
      "display": null,
      "flex": null,
      "flex_flow": null,
      "grid_area": null,
      "grid_auto_columns": null,
      "grid_auto_flow": null,
      "grid_auto_rows": null,
      "grid_column": null,
      "grid_gap": null,
      "grid_row": null,
      "grid_template_areas": null,
      "grid_template_columns": null,
      "grid_template_rows": null,
      "height": null,
      "justify_content": null,
      "justify_items": null,
      "left": null,
      "margin": null,
      "max_height": null,
      "max_width": null,
      "min_height": null,
      "min_width": null,
      "object_fit": null,
      "object_position": null,
      "order": null,
      "overflow": null,
      "overflow_x": null,
      "overflow_y": null,
      "padding": null,
      "right": null,
      "top": null,
      "visibility": null,
      "width": null
     }
    },
    "0801df89cbf546099e2bca177957716b": {
     "model_module": "@jupyter-widgets/controls",
     "model_module_version": "1.5.0",
     "model_name": "HTMLModel",
     "state": {
      "_dom_classes": [],
      "_model_module": "@jupyter-widgets/controls",
      "_model_module_version": "1.5.0",
      "_model_name": "HTMLModel",
      "_view_count": null,
      "_view_module": "@jupyter-widgets/controls",
      "_view_module_version": "1.5.0",
      "_view_name": "HTMLView",
      "description": "",
      "description_tooltip": null,
      "layout": "IPY_MODEL_9e7f7ed3d7174247beb8a412c5bac21a",
      "placeholder": "​",
      "style": "IPY_MODEL_ba1db85cb1cd40348470dd8ab7560d84",
      "value": "Summarize dataset: 100%"
     }
    },
    "0e0c1d17410148ca87522b7a6114b2ca": {
     "model_module": "@jupyter-widgets/base",
     "model_module_version": "1.2.0",
     "model_name": "LayoutModel",
     "state": {
      "_model_module": "@jupyter-widgets/base",
      "_model_module_version": "1.2.0",
      "_model_name": "LayoutModel",
      "_view_count": null,
      "_view_module": "@jupyter-widgets/base",
      "_view_module_version": "1.2.0",
      "_view_name": "LayoutView",
      "align_content": null,
      "align_items": null,
      "align_self": null,
      "border": null,
      "bottom": null,
      "display": null,
      "flex": null,
      "flex_flow": null,
      "grid_area": null,
      "grid_auto_columns": null,
      "grid_auto_flow": null,
      "grid_auto_rows": null,
      "grid_column": null,
      "grid_gap": null,
      "grid_row": null,
      "grid_template_areas": null,
      "grid_template_columns": null,
      "grid_template_rows": null,
      "height": null,
      "justify_content": null,
      "justify_items": null,
      "left": null,
      "margin": null,
      "max_height": null,
      "max_width": null,
      "min_height": null,
      "min_width": null,
      "object_fit": null,
      "object_position": null,
      "order": null,
      "overflow": null,
      "overflow_x": null,
      "overflow_y": null,
      "padding": null,
      "right": null,
      "top": null,
      "visibility": null,
      "width": null
     }
    },
    "136787eea86344318881774a5982b150": {
     "model_module": "@jupyter-widgets/base",
     "model_module_version": "1.2.0",
     "model_name": "LayoutModel",
     "state": {
      "_model_module": "@jupyter-widgets/base",
      "_model_module_version": "1.2.0",
      "_model_name": "LayoutModel",
      "_view_count": null,
      "_view_module": "@jupyter-widgets/base",
      "_view_module_version": "1.2.0",
      "_view_name": "LayoutView",
      "align_content": null,
      "align_items": null,
      "align_self": null,
      "border": null,
      "bottom": null,
      "display": null,
      "flex": null,
      "flex_flow": null,
      "grid_area": null,
      "grid_auto_columns": null,
      "grid_auto_flow": null,
      "grid_auto_rows": null,
      "grid_column": null,
      "grid_gap": null,
      "grid_row": null,
      "grid_template_areas": null,
      "grid_template_columns": null,
      "grid_template_rows": null,
      "height": null,
      "justify_content": null,
      "justify_items": null,
      "left": null,
      "margin": null,
      "max_height": null,
      "max_width": null,
      "min_height": null,
      "min_width": null,
      "object_fit": null,
      "object_position": null,
      "order": null,
      "overflow": null,
      "overflow_x": null,
      "overflow_y": null,
      "padding": null,
      "right": null,
      "top": null,
      "visibility": null,
      "width": null
     }
    },
    "1cf195568e4f4458b873b2e100b1552b": {
     "model_module": "@jupyter-widgets/controls",
     "model_module_version": "1.5.0",
     "model_name": "HTMLModel",
     "state": {
      "_dom_classes": [],
      "_model_module": "@jupyter-widgets/controls",
      "_model_module_version": "1.5.0",
      "_model_name": "HTMLModel",
      "_view_count": null,
      "_view_module": "@jupyter-widgets/controls",
      "_view_module_version": "1.5.0",
      "_view_name": "HTMLView",
      "description": "",
      "description_tooltip": null,
      "layout": "IPY_MODEL_e2795bb055c247bbad1be2b07f80986e",
      "placeholder": "​",
      "style": "IPY_MODEL_dbd888d620314bde9e6a0519b1beb3e4",
      "value": "Render HTML: 100%"
     }
    },
    "22ce0ff57b254cee83b03368bb559a17": {
     "model_module": "@jupyter-widgets/base",
     "model_module_version": "1.2.0",
     "model_name": "LayoutModel",
     "state": {
      "_model_module": "@jupyter-widgets/base",
      "_model_module_version": "1.2.0",
      "_model_name": "LayoutModel",
      "_view_count": null,
      "_view_module": "@jupyter-widgets/base",
      "_view_module_version": "1.2.0",
      "_view_name": "LayoutView",
      "align_content": null,
      "align_items": null,
      "align_self": null,
      "border": null,
      "bottom": null,
      "display": null,
      "flex": null,
      "flex_flow": null,
      "grid_area": null,
      "grid_auto_columns": null,
      "grid_auto_flow": null,
      "grid_auto_rows": null,
      "grid_column": null,
      "grid_gap": null,
      "grid_row": null,
      "grid_template_areas": null,
      "grid_template_columns": null,
      "grid_template_rows": null,
      "height": null,
      "justify_content": null,
      "justify_items": null,
      "left": null,
      "margin": null,
      "max_height": null,
      "max_width": null,
      "min_height": null,
      "min_width": null,
      "object_fit": null,
      "object_position": null,
      "order": null,
      "overflow": null,
      "overflow_x": null,
      "overflow_y": null,
      "padding": null,
      "right": null,
      "top": null,
      "visibility": null,
      "width": null
     }
    },
    "26a97495860243e9b3e54b0b2cf426d2": {
     "model_module": "@jupyter-widgets/base",
     "model_module_version": "1.2.0",
     "model_name": "LayoutModel",
     "state": {
      "_model_module": "@jupyter-widgets/base",
      "_model_module_version": "1.2.0",
      "_model_name": "LayoutModel",
      "_view_count": null,
      "_view_module": "@jupyter-widgets/base",
      "_view_module_version": "1.2.0",
      "_view_name": "LayoutView",
      "align_content": null,
      "align_items": null,
      "align_self": null,
      "border": null,
      "bottom": null,
      "display": null,
      "flex": null,
      "flex_flow": null,
      "grid_area": null,
      "grid_auto_columns": null,
      "grid_auto_flow": null,
      "grid_auto_rows": null,
      "grid_column": null,
      "grid_gap": null,
      "grid_row": null,
      "grid_template_areas": null,
      "grid_template_columns": null,
      "grid_template_rows": null,
      "height": null,
      "justify_content": null,
      "justify_items": null,
      "left": null,
      "margin": null,
      "max_height": null,
      "max_width": null,
      "min_height": null,
      "min_width": null,
      "object_fit": null,
      "object_position": null,
      "order": null,
      "overflow": null,
      "overflow_x": null,
      "overflow_y": null,
      "padding": null,
      "right": null,
      "top": null,
      "visibility": null,
      "width": null
     }
    },
    "2d56c3b4f1904c24a44fc78a4e8ca898": {
     "model_module": "@jupyter-widgets/controls",
     "model_module_version": "1.5.0",
     "model_name": "FloatProgressModel",
     "state": {
      "_dom_classes": [],
      "_model_module": "@jupyter-widgets/controls",
      "_model_module_version": "1.5.0",
      "_model_name": "FloatProgressModel",
      "_view_count": null,
      "_view_module": "@jupyter-widgets/controls",
      "_view_module_version": "1.5.0",
      "_view_name": "ProgressView",
      "bar_style": "success",
      "description": "",
      "description_tooltip": null,
      "layout": "IPY_MODEL_573f800809a34fe7994f83ab39d68891",
      "max": 1,
      "min": 0,
      "orientation": "horizontal",
      "style": "IPY_MODEL_68f96d04109a48a9b5faf2575d7d08ab",
      "value": 1
     }
    },
    "42d766dd83a9416e956a9fad69f6e522": {
     "model_module": "@jupyter-widgets/base",
     "model_module_version": "1.2.0",
     "model_name": "LayoutModel",
     "state": {
      "_model_module": "@jupyter-widgets/base",
      "_model_module_version": "1.2.0",
      "_model_name": "LayoutModel",
      "_view_count": null,
      "_view_module": "@jupyter-widgets/base",
      "_view_module_version": "1.2.0",
      "_view_name": "LayoutView",
      "align_content": null,
      "align_items": null,
      "align_self": null,
      "border": null,
      "bottom": null,
      "display": null,
      "flex": null,
      "flex_flow": null,
      "grid_area": null,
      "grid_auto_columns": null,
      "grid_auto_flow": null,
      "grid_auto_rows": null,
      "grid_column": null,
      "grid_gap": null,
      "grid_row": null,
      "grid_template_areas": null,
      "grid_template_columns": null,
      "grid_template_rows": null,
      "height": null,
      "justify_content": null,
      "justify_items": null,
      "left": null,
      "margin": null,
      "max_height": null,
      "max_width": null,
      "min_height": null,
      "min_width": null,
      "object_fit": null,
      "object_position": null,
      "order": null,
      "overflow": null,
      "overflow_x": null,
      "overflow_y": null,
      "padding": null,
      "right": null,
      "top": null,
      "visibility": null,
      "width": null
     }
    },
    "439a67005d6441c4a51b119439ab9023": {
     "model_module": "@jupyter-widgets/controls",
     "model_module_version": "1.5.0",
     "model_name": "DescriptionStyleModel",
     "state": {
      "_model_module": "@jupyter-widgets/controls",
      "_model_module_version": "1.5.0",
      "_model_name": "DescriptionStyleModel",
      "_view_count": null,
      "_view_module": "@jupyter-widgets/base",
      "_view_module_version": "1.2.0",
      "_view_name": "StyleView",
      "description_width": ""
     }
    },
    "5316b779d7ae43baa05f1154edaeb43f": {
     "model_module": "@jupyter-widgets/base",
     "model_module_version": "1.2.0",
     "model_name": "LayoutModel",
     "state": {
      "_model_module": "@jupyter-widgets/base",
      "_model_module_version": "1.2.0",
      "_model_name": "LayoutModel",
      "_view_count": null,
      "_view_module": "@jupyter-widgets/base",
      "_view_module_version": "1.2.0",
      "_view_name": "LayoutView",
      "align_content": null,
      "align_items": null,
      "align_self": null,
      "border": null,
      "bottom": null,
      "display": null,
      "flex": null,
      "flex_flow": null,
      "grid_area": null,
      "grid_auto_columns": null,
      "grid_auto_flow": null,
      "grid_auto_rows": null,
      "grid_column": null,
      "grid_gap": null,
      "grid_row": null,
      "grid_template_areas": null,
      "grid_template_columns": null,
      "grid_template_rows": null,
      "height": null,
      "justify_content": null,
      "justify_items": null,
      "left": null,
      "margin": null,
      "max_height": null,
      "max_width": null,
      "min_height": null,
      "min_width": null,
      "object_fit": null,
      "object_position": null,
      "order": null,
      "overflow": null,
      "overflow_x": null,
      "overflow_y": null,
      "padding": null,
      "right": null,
      "top": null,
      "visibility": null,
      "width": null
     }
    },
    "573f800809a34fe7994f83ab39d68891": {
     "model_module": "@jupyter-widgets/base",
     "model_module_version": "1.2.0",
     "model_name": "LayoutModel",
     "state": {
      "_model_module": "@jupyter-widgets/base",
      "_model_module_version": "1.2.0",
      "_model_name": "LayoutModel",
      "_view_count": null,
      "_view_module": "@jupyter-widgets/base",
      "_view_module_version": "1.2.0",
      "_view_name": "LayoutView",
      "align_content": null,
      "align_items": null,
      "align_self": null,
      "border": null,
      "bottom": null,
      "display": null,
      "flex": null,
      "flex_flow": null,
      "grid_area": null,
      "grid_auto_columns": null,
      "grid_auto_flow": null,
      "grid_auto_rows": null,
      "grid_column": null,
      "grid_gap": null,
      "grid_row": null,
      "grid_template_areas": null,
      "grid_template_columns": null,
      "grid_template_rows": null,
      "height": null,
      "justify_content": null,
      "justify_items": null,
      "left": null,
      "margin": null,
      "max_height": null,
      "max_width": null,
      "min_height": null,
      "min_width": null,
      "object_fit": null,
      "object_position": null,
      "order": null,
      "overflow": null,
      "overflow_x": null,
      "overflow_y": null,
      "padding": null,
      "right": null,
      "top": null,
      "visibility": null,
      "width": null
     }
    },
    "5b95db6bf21d4ec1bb26abd43a09321f": {
     "model_module": "@jupyter-widgets/controls",
     "model_module_version": "1.5.0",
     "model_name": "FloatProgressModel",
     "state": {
      "_dom_classes": [],
      "_model_module": "@jupyter-widgets/controls",
      "_model_module_version": "1.5.0",
      "_model_name": "FloatProgressModel",
      "_view_count": null,
      "_view_module": "@jupyter-widgets/controls",
      "_view_module_version": "1.5.0",
      "_view_name": "ProgressView",
      "bar_style": "success",
      "description": "",
      "description_tooltip": null,
      "layout": "IPY_MODEL_7627c0499e2c43eba9b0287c7921fcfd",
      "max": 5,
      "min": 0,
      "orientation": "horizontal",
      "style": "IPY_MODEL_bd1abd48fa984d07a07df73dd6b65813",
      "value": 5
     }
    },
    "68f96d04109a48a9b5faf2575d7d08ab": {
     "model_module": "@jupyter-widgets/controls",
     "model_module_version": "1.5.0",
     "model_name": "ProgressStyleModel",
     "state": {
      "_model_module": "@jupyter-widgets/controls",
      "_model_module_version": "1.5.0",
      "_model_name": "ProgressStyleModel",
      "_view_count": null,
      "_view_module": "@jupyter-widgets/base",
      "_view_module_version": "1.2.0",
      "_view_name": "StyleView",
      "bar_color": null,
      "description_width": ""
     }
    },
    "7627c0499e2c43eba9b0287c7921fcfd": {
     "model_module": "@jupyter-widgets/base",
     "model_module_version": "1.2.0",
     "model_name": "LayoutModel",
     "state": {
      "_model_module": "@jupyter-widgets/base",
      "_model_module_version": "1.2.0",
      "_model_name": "LayoutModel",
      "_view_count": null,
      "_view_module": "@jupyter-widgets/base",
      "_view_module_version": "1.2.0",
      "_view_name": "LayoutView",
      "align_content": null,
      "align_items": null,
      "align_self": null,
      "border": null,
      "bottom": null,
      "display": null,
      "flex": null,
      "flex_flow": null,
      "grid_area": null,
      "grid_auto_columns": null,
      "grid_auto_flow": null,
      "grid_auto_rows": null,
      "grid_column": null,
      "grid_gap": null,
      "grid_row": null,
      "grid_template_areas": null,
      "grid_template_columns": null,
      "grid_template_rows": null,
      "height": null,
      "justify_content": null,
      "justify_items": null,
      "left": null,
      "margin": null,
      "max_height": null,
      "max_width": null,
      "min_height": null,
      "min_width": null,
      "object_fit": null,
      "object_position": null,
      "order": null,
      "overflow": null,
      "overflow_x": null,
      "overflow_y": null,
      "padding": null,
      "right": null,
      "top": null,
      "visibility": null,
      "width": null
     }
    },
    "773e475493f74e70816f6e40dc0fb3ca": {
     "model_module": "@jupyter-widgets/controls",
     "model_module_version": "1.5.0",
     "model_name": "HBoxModel",
     "state": {
      "_dom_classes": [],
      "_model_module": "@jupyter-widgets/controls",
      "_model_module_version": "1.5.0",
      "_model_name": "HBoxModel",
      "_view_count": null,
      "_view_module": "@jupyter-widgets/controls",
      "_view_module_version": "1.5.0",
      "_view_name": "HBoxView",
      "box_style": "",
      "children": [
       "IPY_MODEL_1cf195568e4f4458b873b2e100b1552b",
       "IPY_MODEL_914f27702fad48df84630d5dcc116c65",
       "IPY_MODEL_fe354feed45949e8b703491c2cf280d5"
      ],
      "layout": "IPY_MODEL_04f57022f9164c6eb5a7449784b436c9"
     }
    },
    "7f8d1545f02d44e0a293b301edf5f2ea": {
     "model_module": "@jupyter-widgets/controls",
     "model_module_version": "1.5.0",
     "model_name": "HTMLModel",
     "state": {
      "_dom_classes": [],
      "_model_module": "@jupyter-widgets/controls",
      "_model_module_version": "1.5.0",
      "_model_name": "HTMLModel",
      "_view_count": null,
      "_view_module": "@jupyter-widgets/controls",
      "_view_module_version": "1.5.0",
      "_view_name": "HTMLView",
      "description": "",
      "description_tooltip": null,
      "layout": "IPY_MODEL_22ce0ff57b254cee83b03368bb559a17",
      "placeholder": "​",
      "style": "IPY_MODEL_de2df78f6de44820961c521d2fb81808",
      "value": "Generate report structure: 100%"
     }
    },
    "914f27702fad48df84630d5dcc116c65": {
     "model_module": "@jupyter-widgets/controls",
     "model_module_version": "1.5.0",
     "model_name": "FloatProgressModel",
     "state": {
      "_dom_classes": [],
      "_model_module": "@jupyter-widgets/controls",
      "_model_module_version": "1.5.0",
      "_model_name": "FloatProgressModel",
      "_view_count": null,
      "_view_module": "@jupyter-widgets/controls",
      "_view_module_version": "1.5.0",
      "_view_name": "ProgressView",
      "bar_style": "success",
      "description": "",
      "description_tooltip": null,
      "layout": "IPY_MODEL_d43008e9f60f4a128456590bba4a6c8a",
      "max": 1,
      "min": 0,
      "orientation": "horizontal",
      "style": "IPY_MODEL_9e76a6c3a58a40cca02587dde869cece",
      "value": 1
     }
    },
    "9be292a63cd8483b8ef8f2a20be51595": {
     "model_module": "@jupyter-widgets/controls",
     "model_module_version": "1.5.0",
     "model_name": "HBoxModel",
     "state": {
      "_dom_classes": [],
      "_model_module": "@jupyter-widgets/controls",
      "_model_module_version": "1.5.0",
      "_model_name": "HBoxModel",
      "_view_count": null,
      "_view_module": "@jupyter-widgets/controls",
      "_view_module_version": "1.5.0",
      "_view_name": "HBoxView",
      "box_style": "",
      "children": [
       "IPY_MODEL_0801df89cbf546099e2bca177957716b",
       "IPY_MODEL_5b95db6bf21d4ec1bb26abd43a09321f",
       "IPY_MODEL_ca3bb79a567043e5acb7b4a1a5512a4b"
      ],
      "layout": "IPY_MODEL_136787eea86344318881774a5982b150"
     }
    },
    "9e76a6c3a58a40cca02587dde869cece": {
     "model_module": "@jupyter-widgets/controls",
     "model_module_version": "1.5.0",
     "model_name": "ProgressStyleModel",
     "state": {
      "_model_module": "@jupyter-widgets/controls",
      "_model_module_version": "1.5.0",
      "_model_name": "ProgressStyleModel",
      "_view_count": null,
      "_view_module": "@jupyter-widgets/base",
      "_view_module_version": "1.2.0",
      "_view_name": "StyleView",
      "bar_color": null,
      "description_width": ""
     }
    },
    "9e7f7ed3d7174247beb8a412c5bac21a": {
     "model_module": "@jupyter-widgets/base",
     "model_module_version": "1.2.0",
     "model_name": "LayoutModel",
     "state": {
      "_model_module": "@jupyter-widgets/base",
      "_model_module_version": "1.2.0",
      "_model_name": "LayoutModel",
      "_view_count": null,
      "_view_module": "@jupyter-widgets/base",
      "_view_module_version": "1.2.0",
      "_view_name": "LayoutView",
      "align_content": null,
      "align_items": null,
      "align_self": null,
      "border": null,
      "bottom": null,
      "display": null,
      "flex": null,
      "flex_flow": null,
      "grid_area": null,
      "grid_auto_columns": null,
      "grid_auto_flow": null,
      "grid_auto_rows": null,
      "grid_column": null,
      "grid_gap": null,
      "grid_row": null,
      "grid_template_areas": null,
      "grid_template_columns": null,
      "grid_template_rows": null,
      "height": null,
      "justify_content": null,
      "justify_items": null,
      "left": null,
      "margin": null,
      "max_height": null,
      "max_width": null,
      "min_height": null,
      "min_width": null,
      "object_fit": null,
      "object_position": null,
      "order": null,
      "overflow": null,
      "overflow_x": null,
      "overflow_y": null,
      "padding": null,
      "right": null,
      "top": null,
      "visibility": null,
      "width": null
     }
    },
    "9ec2500579004df5b616862edf57cc8b": {
     "model_module": "@jupyter-widgets/controls",
     "model_module_version": "1.5.0",
     "model_name": "DescriptionStyleModel",
     "state": {
      "_model_module": "@jupyter-widgets/controls",
      "_model_module_version": "1.5.0",
      "_model_name": "DescriptionStyleModel",
      "_view_count": null,
      "_view_module": "@jupyter-widgets/base",
      "_view_module_version": "1.2.0",
      "_view_name": "StyleView",
      "description_width": ""
     }
    },
    "ab081972abc4487286734568af149eb0": {
     "model_module": "@jupyter-widgets/controls",
     "model_module_version": "1.5.0",
     "model_name": "DescriptionStyleModel",
     "state": {
      "_model_module": "@jupyter-widgets/controls",
      "_model_module_version": "1.5.0",
      "_model_name": "DescriptionStyleModel",
      "_view_count": null,
      "_view_module": "@jupyter-widgets/base",
      "_view_module_version": "1.2.0",
      "_view_name": "StyleView",
      "description_width": ""
     }
    },
    "ba1db85cb1cd40348470dd8ab7560d84": {
     "model_module": "@jupyter-widgets/controls",
     "model_module_version": "1.5.0",
     "model_name": "DescriptionStyleModel",
     "state": {
      "_model_module": "@jupyter-widgets/controls",
      "_model_module_version": "1.5.0",
      "_model_name": "DescriptionStyleModel",
      "_view_count": null,
      "_view_module": "@jupyter-widgets/base",
      "_view_module_version": "1.2.0",
      "_view_name": "StyleView",
      "description_width": ""
     }
    },
    "bd1abd48fa984d07a07df73dd6b65813": {
     "model_module": "@jupyter-widgets/controls",
     "model_module_version": "1.5.0",
     "model_name": "ProgressStyleModel",
     "state": {
      "_model_module": "@jupyter-widgets/controls",
      "_model_module_version": "1.5.0",
      "_model_name": "ProgressStyleModel",
      "_view_count": null,
      "_view_module": "@jupyter-widgets/base",
      "_view_module_version": "1.2.0",
      "_view_name": "StyleView",
      "bar_color": null,
      "description_width": ""
     }
    },
    "ca3bb79a567043e5acb7b4a1a5512a4b": {
     "model_module": "@jupyter-widgets/controls",
     "model_module_version": "1.5.0",
     "model_name": "HTMLModel",
     "state": {
      "_dom_classes": [],
      "_model_module": "@jupyter-widgets/controls",
      "_model_module_version": "1.5.0",
      "_model_name": "HTMLModel",
      "_view_count": null,
      "_view_module": "@jupyter-widgets/controls",
      "_view_module_version": "1.5.0",
      "_view_name": "HTMLView",
      "description": "",
      "description_tooltip": null,
      "layout": "IPY_MODEL_5316b779d7ae43baa05f1154edaeb43f",
      "placeholder": "​",
      "style": "IPY_MODEL_9ec2500579004df5b616862edf57cc8b",
      "value": " 108/108 [04:02&lt;00:00,  2.13s/it, Completed]"
     }
    },
    "d43008e9f60f4a128456590bba4a6c8a": {
     "model_module": "@jupyter-widgets/base",
     "model_module_version": "1.2.0",
     "model_name": "LayoutModel",
     "state": {
      "_model_module": "@jupyter-widgets/base",
      "_model_module_version": "1.2.0",
      "_model_name": "LayoutModel",
      "_view_count": null,
      "_view_module": "@jupyter-widgets/base",
      "_view_module_version": "1.2.0",
      "_view_name": "LayoutView",
      "align_content": null,
      "align_items": null,
      "align_self": null,
      "border": null,
      "bottom": null,
      "display": null,
      "flex": null,
      "flex_flow": null,
      "grid_area": null,
      "grid_auto_columns": null,
      "grid_auto_flow": null,
      "grid_auto_rows": null,
      "grid_column": null,
      "grid_gap": null,
      "grid_row": null,
      "grid_template_areas": null,
      "grid_template_columns": null,
      "grid_template_rows": null,
      "height": null,
      "justify_content": null,
      "justify_items": null,
      "left": null,
      "margin": null,
      "max_height": null,
      "max_width": null,
      "min_height": null,
      "min_width": null,
      "object_fit": null,
      "object_position": null,
      "order": null,
      "overflow": null,
      "overflow_x": null,
      "overflow_y": null,
      "padding": null,
      "right": null,
      "top": null,
      "visibility": null,
      "width": null
     }
    },
    "dbd888d620314bde9e6a0519b1beb3e4": {
     "model_module": "@jupyter-widgets/controls",
     "model_module_version": "1.5.0",
     "model_name": "DescriptionStyleModel",
     "state": {
      "_model_module": "@jupyter-widgets/controls",
      "_model_module_version": "1.5.0",
      "_model_name": "DescriptionStyleModel",
      "_view_count": null,
      "_view_module": "@jupyter-widgets/base",
      "_view_module_version": "1.2.0",
      "_view_name": "StyleView",
      "description_width": ""
     }
    },
    "de2df78f6de44820961c521d2fb81808": {
     "model_module": "@jupyter-widgets/controls",
     "model_module_version": "1.5.0",
     "model_name": "DescriptionStyleModel",
     "state": {
      "_model_module": "@jupyter-widgets/controls",
      "_model_module_version": "1.5.0",
      "_model_name": "DescriptionStyleModel",
      "_view_count": null,
      "_view_module": "@jupyter-widgets/base",
      "_view_module_version": "1.2.0",
      "_view_name": "StyleView",
      "description_width": ""
     }
    },
    "e2795bb055c247bbad1be2b07f80986e": {
     "model_module": "@jupyter-widgets/base",
     "model_module_version": "1.2.0",
     "model_name": "LayoutModel",
     "state": {
      "_model_module": "@jupyter-widgets/base",
      "_model_module_version": "1.2.0",
      "_model_name": "LayoutModel",
      "_view_count": null,
      "_view_module": "@jupyter-widgets/base",
      "_view_module_version": "1.2.0",
      "_view_name": "LayoutView",
      "align_content": null,
      "align_items": null,
      "align_self": null,
      "border": null,
      "bottom": null,
      "display": null,
      "flex": null,
      "flex_flow": null,
      "grid_area": null,
      "grid_auto_columns": null,
      "grid_auto_flow": null,
      "grid_auto_rows": null,
      "grid_column": null,
      "grid_gap": null,
      "grid_row": null,
      "grid_template_areas": null,
      "grid_template_columns": null,
      "grid_template_rows": null,
      "height": null,
      "justify_content": null,
      "justify_items": null,
      "left": null,
      "margin": null,
      "max_height": null,
      "max_width": null,
      "min_height": null,
      "min_width": null,
      "object_fit": null,
      "object_position": null,
      "order": null,
      "overflow": null,
      "overflow_x": null,
      "overflow_y": null,
      "padding": null,
      "right": null,
      "top": null,
      "visibility": null,
      "width": null
     }
    },
    "ef843783a00049948993ba96caf041e9": {
     "model_module": "@jupyter-widgets/controls",
     "model_module_version": "1.5.0",
     "model_name": "HTMLModel",
     "state": {
      "_dom_classes": [],
      "_model_module": "@jupyter-widgets/controls",
      "_model_module_version": "1.5.0",
      "_model_name": "HTMLModel",
      "_view_count": null,
      "_view_module": "@jupyter-widgets/controls",
      "_view_module_version": "1.5.0",
      "_view_name": "HTMLView",
      "description": "",
      "description_tooltip": null,
      "layout": "IPY_MODEL_42d766dd83a9416e956a9fad69f6e522",
      "placeholder": "​",
      "style": "IPY_MODEL_439a67005d6441c4a51b119439ab9023",
      "value": " 1/1 [00:06&lt;00:00,  6.66s/it]"
     }
    },
    "f4860187ac3d47e39dc23c7428f412f5": {
     "model_module": "@jupyter-widgets/controls",
     "model_module_version": "1.5.0",
     "model_name": "HBoxModel",
     "state": {
      "_dom_classes": [],
      "_model_module": "@jupyter-widgets/controls",
      "_model_module_version": "1.5.0",
      "_model_name": "HBoxModel",
      "_view_count": null,
      "_view_module": "@jupyter-widgets/controls",
      "_view_module_version": "1.5.0",
      "_view_name": "HBoxView",
      "box_style": "",
      "children": [
       "IPY_MODEL_7f8d1545f02d44e0a293b301edf5f2ea",
       "IPY_MODEL_2d56c3b4f1904c24a44fc78a4e8ca898",
       "IPY_MODEL_ef843783a00049948993ba96caf041e9"
      ],
      "layout": "IPY_MODEL_0e0c1d17410148ca87522b7a6114b2ca"
     }
    },
    "fe354feed45949e8b703491c2cf280d5": {
     "model_module": "@jupyter-widgets/controls",
     "model_module_version": "1.5.0",
     "model_name": "HTMLModel",
     "state": {
      "_dom_classes": [],
      "_model_module": "@jupyter-widgets/controls",
      "_model_module_version": "1.5.0",
      "_model_name": "HTMLModel",
      "_view_count": null,
      "_view_module": "@jupyter-widgets/controls",
      "_view_module_version": "1.5.0",
      "_view_name": "HTMLView",
      "description": "",
      "description_tooltip": null,
      "layout": "IPY_MODEL_26a97495860243e9b3e54b0b2cf426d2",
      "placeholder": "​",
      "style": "IPY_MODEL_ab081972abc4487286734568af149eb0",
      "value": " 1/1 [00:03&lt;00:00,  3.50s/it]"
     }
    }
   }
  }
 },
 "nbformat": 4,
 "nbformat_minor": 1
}
